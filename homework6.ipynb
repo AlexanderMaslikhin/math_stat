{
 "cells": [
  {
   "cell_type": "markdown",
   "id": "b9e1826c",
   "metadata": {},
   "source": [
    "##### 1. Даны значения величины заработной платы заемщиков банка (zp) и значения их поведенческого кредитного скоринга (ks): zp = [35, 45, 190, 200, 40, 70, 54, 150, 120, 110], ks = [401, 574, 874, 919, 459, 739, 653, 902, 746, 832]. Найдите ковариацию этих двух величин с помощью элементарных действий, а затем с помощью функции cov из numpy. Полученные значения должны быть равны. Найдите коэффициент корреляции Пирсона с помощью ковариации и среднеквадратичных отклонений двух признаков, а затем с использованием функций из библиотек numpy и pandas."
   ]
  },
  {
   "cell_type": "code",
   "execution_count": 6,
   "id": "30911132",
   "metadata": {},
   "outputs": [
    {
     "data": {
      "text/plain": [
       "(10175.37777777778, 10175.377777777778)"
      ]
     },
     "execution_count": 6,
     "metadata": {},
     "output_type": "execute_result"
    }
   ],
   "source": [
    "import numpy as np\n",
    "import pandas as pd\n",
    "\n",
    "zp = np.array([35, 45, 190, 200, 40, 70, 54, 150, 120, 110])\n",
    "ks = np.array([401, 574, 874, 919, 459, 739, 653, 902, 746, 832])\n",
    "\n",
    "cov1 = ((ks-ks.mean())*(zp-zp.mean())).sum()/(len(zp) - 1)\n",
    "cov2 = np.cov(zp,ks)[0][1]\n",
    "cov1, cov2"
   ]
  },
  {
   "cell_type": "code",
   "execution_count": 16,
   "id": "885d7dfa",
   "metadata": {},
   "outputs": [
    {
     "data": {
      "text/plain": [
       "(0.8874900920739158, 0.8874900920739163, 0.8874900920739165)"
      ]
     },
     "execution_count": 16,
     "metadata": {},
     "output_type": "execute_result"
    }
   ],
   "source": [
    "r1 = ((ks*zp).mean()-ks.mean()*zp.mean())/(zp.std() * ks.std())\n",
    "r2 = np.corrcoef(zp, ks)[0][1]\n",
    "frame = pd.DataFrame({'ks': ks, 'zp': zp})\n",
    "r3 = frame.corr().iloc[0]['zp']\n",
    "r1, r2, r3"
   ]
  },
  {
   "cell_type": "markdown",
   "id": "5692f7ca",
   "metadata": {},
   "source": [
    " Интересно, чтобы совпали ковариации, нужно считать несмещенную, а чтобы коэффициенты корреляции, то смещенную"
   ]
  },
  {
   "cell_type": "markdown",
   "id": "ed6d35bb",
   "metadata": {},
   "source": [
    "##### 2. Измерены значения IQ выборки студентов, обучающихся в местных технических вузах: 131, 125, 115, 122, 131, 115, 107, 99, 125, 111. Известно, что в генеральной совокупности IQ распределен нормально. Найдите доверительный интервал для математического ожидания с надежностью 0.95."
   ]
  },
  {
   "cell_type": "code",
   "execution_count": 20,
   "id": "b375d97f",
   "metadata": {},
   "outputs": [
    {
     "name": "stdout",
     "output_type": "stream",
     "text": [
      "Доверительный интервал для мат. ожидания\n"
     ]
    },
    {
     "data": {
      "text/plain": [
       "(110.55608365159055, 125.64391634840943)"
      ]
     },
     "execution_count": 20,
     "metadata": {},
     "output_type": "execute_result"
    }
   ],
   "source": [
    "## воспользуемся t-распределением, т.к. дисперсия неизвестна\n",
    "iq = np.array([131, 125, 115, 122, 131, 115, 107, 99, 125, 111])\n",
    "iq_mean = iq.mean()\n",
    "iq_sigma = iq.std(ddof=1)\n",
    "n = len(iq) #10\n",
    "t = 2.26215716274 # квантиль 97.5%, n-1=9\n",
    "print('Доверительный интервал для мат. ожидания')\n",
    "iq_mean - t*iq_sigma/np.sqrt(n), iq_mean + t*iq_sigma/np.sqrt(n) "
   ]
  },
  {
   "cell_type": "markdown",
   "id": "564edd7d",
   "metadata": {},
   "source": [
    "##### 3. Известно, что рост футболистов в сборной распределен нормально с дисперсией генеральной совокупности, равной 25 кв.см. Объем выборки равен 27, среднее выборочное составляет 174.2. Найдите доверительный интервал для математического ожидания с надежностью 0.95."
   ]
  },
  {
   "cell_type": "code",
   "execution_count": 21,
   "id": "8e9f774c",
   "metadata": {},
   "outputs": [
    {
     "name": "stdout",
     "output_type": "stream",
     "text": [
      "Доверительный интервал:\n"
     ]
    },
    {
     "data": {
      "text/plain": [
       "(172.27549910270125, 176.12450089729873)"
      ]
     },
     "execution_count": 21,
     "metadata": {},
     "output_type": "execute_result"
    }
   ],
   "source": [
    "# так как известна дисперсия, используем ее\n",
    "sigma = np.sqrt(25)/np.sqrt(27)\n",
    "M = 174.2\n",
    "# надежность 0.95 => 2 сигмы\n",
    "print('Доверительный интервал:')\n",
    "M - 2*sigma, M + 2*sigma"
   ]
  },
  {
   "cell_type": "code",
   "execution_count": null,
   "id": "5a0f3e6b",
   "metadata": {},
   "outputs": [],
   "source": []
  }
 ],
 "metadata": {
  "kernelspec": {
   "display_name": "Python 3 (ipykernel)",
   "language": "python",
   "name": "python3"
  },
  "language_info": {
   "codemirror_mode": {
    "name": "ipython",
    "version": 3
   },
   "file_extension": ".py",
   "mimetype": "text/x-python",
   "name": "python",
   "nbconvert_exporter": "python",
   "pygments_lexer": "ipython3",
   "version": "3.9.7"
  }
 },
 "nbformat": 4,
 "nbformat_minor": 5
}
