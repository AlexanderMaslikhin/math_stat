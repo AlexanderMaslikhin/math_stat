{
 "cells": [
  {
   "cell_type": "markdown",
   "id": "f74651aa",
   "metadata": {},
   "source": [
    "__Задача 1__\n",
    "\n",
    "Даны значения величины заработной платы заемщиков банка (`salary`) и значения их поведенческого кредитного скоринга (`scoring`):\n",
    "```\n",
    "salary = [35, 45, 190, 200, 40, 70, 54, 150, 120, 110]\n",
    "scoring = [401, 574, 874, 919, 459, 739, 653, 902, 746, 832]\n",
    "```\n",
    "Возьмём в качестве признака значение `salary`, а в качестве целевой переменной - `scoring`.\n",
    "\n",
    "1. Найдите коэффициенты линейной регрессии с помощью формул для парной регрессии, а затем с помощью метода наименьших квадратов.\n",
    "2. Постройте `scatter plot` по данным и отметьте на нём прямую линейной регрессии, полученную в п. 1.\n",
    "3. Посчитайте коэффициент детерминации, среднюю ошибку аппроксимации.\n",
    "4. Оцените построенное уравнение регрессии с помощью F-критерия Фишера.\n",
    "5. Оцените значимость получившихся параметров уравнения регрессии и постройте для них доверительные интервалы с помощью t-статистики Стьюдента."
   ]
  },
  {
   "cell_type": "code",
   "execution_count": 16,
   "id": "41b4855d",
   "metadata": {},
   "outputs": [],
   "source": [
    "import numpy as np\n",
    "import matplotlib.pyplot as plt\n",
    "from scipy import stats\n",
    "%matplotlib inline\n",
    "\n",
    "salary = np.array([35, 45, 190, 200, 40, 70, 54, 150, 120, 110])\n",
    "scoring = np.array([401, 574, 874, 919, 459, 739, 653, 902, 746, 832])"
   ]
  },
  {
   "cell_type": "markdown",
   "id": "b917f83b",
   "metadata": {},
   "source": [
    "Для парной регрессии коэффициенты вычисляются по формулам:\n",
    "\n",
    "$$b_1 = \\frac{\\overline{yx} - \\overline{y} \\cdot {\\overline{x}}}{\\overline{x^2} - (\\overline{x})^2}, \\: b_0 = \\overline{y} - b_1 \\cdot {\\overline{x}}.$$\n",
    "\n",
    "Здесь $x$, $y$ — данные из выборки, $\\overline{x}$ обозначает выборочное среднее."
   ]
  },
  {
   "cell_type": "code",
   "execution_count": 17,
   "id": "5ca61f08",
   "metadata": {},
   "outputs": [
    {
     "data": {
      "text/plain": [
       "(444.1773573243596, 2.620538882402765)"
      ]
     },
     "execution_count": 17,
     "metadata": {},
     "output_type": "execute_result"
    }
   ],
   "source": [
    "x = salary\n",
    "y = scoring\n",
    "b1 = ((x*y).mean() - y.mean()*x.mean()) / ((x*x).mean() - x.mean()**2)\n",
    "b0 = y.mean() - b1*x.mean()\n",
    "b0, b1"
   ]
  },
  {
   "cell_type": "markdown",
   "id": "ee9a3615",
   "metadata": {},
   "source": [
    "Методом наименьших квадратов:\n",
    "$$b = (X^\\top X)^{-1} X^\\top y.$$"
   ]
  },
  {
   "cell_type": "code",
   "execution_count": 18,
   "id": "7f6093cd",
   "metadata": {},
   "outputs": [
    {
     "data": {
      "text/plain": [
       "array([444.17735732,   2.62053888])"
      ]
     },
     "execution_count": 18,
     "metadata": {},
     "output_type": "execute_result"
    }
   ],
   "source": [
    "x1 = x[:, np.newaxis] ## x в вектор столбец\n",
    "x1 = np.insert(x1, 0, 1, axis=1) # столбец единиц для смещения\n",
    "b = np.linalg.inv(x1.T.dot(x1)).dot(x1.T)@y\n",
    "b\n"
   ]
  },
  {
   "cell_type": "code",
   "execution_count": 19,
   "id": "fe15ab2a",
   "metadata": {},
   "outputs": [
    {
     "data": {
      "image/png": "[encoded data removed]",
      "text/plain": [
       "<Figure size 432x288 with 1 Axes>"
      ]
     },
     "metadata": {
      "needs_background": "light"
     },
     "output_type": "display_data"
    }
   ],
   "source": [
    "z = x1 @ b\n",
    "plt.scatter(x, y)\n",
    "plt.plot(x, z, color='green')\n",
    "plt.show()"
   ]
  },
  {
   "cell_type": "code",
   "execution_count": 20,
   "id": "ba598841",
   "metadata": {},
   "outputs": [
    {
     "data": {
      "text/plain": [
       "(0.7876386635293696, 0.11469251843561705)"
      ]
     },
     "execution_count": 20,
     "metadata": {},
     "output_type": "execute_result"
    }
   ],
   "source": [
    "## коэффициент детерминации и средняя ошибка аппроксимации\n",
    "r2 = z.var() / y.var()\n",
    "A = np.abs((y - z) / y).mean()\n",
    "r2, A"
   ]
  },
  {
   "cell_type": "markdown",
   "id": "0624b59b",
   "metadata": {},
   "source": [
    "Коэффициент довольно высокий 0.79, но ошибка аппроксимации на пределе"
   ]
  },
  {
   "cell_type": "markdown",
   "id": "8606db56",
   "metadata": {},
   "source": [
    "Оценить статистическую значимость уравнения линейной регрессии в целом можно с помощью __F-критерия Фишера__. Соответствующая статистика равна\n",
    "\n",
    "$$T = \\dfrac{R^2}{1 - R^2} \\cdot \\dfrac{n - k - 1}{k},$$\n"
   ]
  },
  {
   "cell_type": "code",
   "execution_count": 21,
   "id": "31899f3c",
   "metadata": {},
   "outputs": [
    {
     "data": {
      "text/plain": [
       "(29.671640859664688, 5.317655071578714, True)"
      ]
     },
     "execution_count": 21,
     "metadata": {},
     "output_type": "execute_result"
    }
   ],
   "source": [
    "n = len(y)\n",
    "k = 1\n",
    "k1 = k\n",
    "k2 = n - k - 1\n",
    "T = (r2 / (1 - r2)) * (k2 / k1)\n",
    "alpha = 0.05\n",
    "F_crit = stats.f.ppf(1-alpha, k1, k2)\n",
    "T, F_crit, T > F_crit"
   ]
  },
  {
   "cell_type": "markdown",
   "id": "027bdc59",
   "metadata": {},
   "source": [
    "Уравнение статистически значимо"
   ]
  },
  {
   "cell_type": "markdown",
   "id": "0185ae09",
   "metadata": {},
   "source": [
    "Проверка значимости b0 и b1"
   ]
  },
  {
   "cell_type": "code",
   "execution_count": 25,
   "id": "4bda07e1",
   "metadata": {},
   "outputs": [],
   "source": [
    "def standard_error_slope(x, y, z):\n",
    "    n = x.shape[0]\n",
    "    \n",
    "    upper = ((y - z) ** 2).sum() / (n - 2)\n",
    "    lower = ((x - x.mean()) ** 2).sum()\n",
    "    \n",
    "    return np.sqrt(upper / lower)\n",
    "\n",
    "def standard_error_intercept(x, y, z):\n",
    "    return standard_error_slope(x, y, z) * np.sqrt((x ** 2).mean())"
   ]
  },
  {
   "cell_type": "code",
   "execution_count": 28,
   "id": "81bd3d6e",
   "metadata": {},
   "outputs": [
    {
     "data": {
      "text/plain": [
       "((-2.3060041350333704, 2.3060041350333704), 5.4471681504855844)"
      ]
     },
     "execution_count": 28,
     "metadata": {},
     "output_type": "execute_result"
    }
   ],
   "source": [
    "# b1\n",
    "err_slope = standard_error_slope(x, y, z)\n",
    "t = stats.t.ppf(1-alpha/2, n-2)\n",
    "T = b[1]/err_slope\n",
    "(-t, t), T"
   ]
  },
  {
   "cell_type": "markdown",
   "id": "34a79aad",
   "metadata": {},
   "source": [
    "b1 попадает в критическую область, значит является статистически значимым (гипотеза H0 о незначитмости коэффициента отвергается)"
   ]
  },
  {
   "cell_type": "code",
   "execution_count": 29,
   "id": "58195d6f",
   "metadata": {},
   "outputs": [
    {
     "data": {
      "text/plain": [
       "((-2.3060041350333704, 2.3060041350333704), 7.866210524668855)"
      ]
     },
     "execution_count": 29,
     "metadata": {},
     "output_type": "execute_result"
    }
   ],
   "source": [
    "# b0\n",
    "err_intercept = standard_error_intercept(x, y, z)\n",
    "T = b[0]/err_intercept\n",
    "(-t, t), T"
   ]
  },
  {
   "cell_type": "markdown",
   "id": "04744e01",
   "metadata": {},
   "source": [
    "b0 также попадает в критическую область и является статистически значимым"
   ]
  },
  {
   "cell_type": "code",
   "execution_count": 30,
   "id": "d0a72c6f",
   "metadata": {},
   "outputs": [
    {
     "name": "stdout",
     "output_type": "stream",
     "text": [
      "Доверительный интервал для b1\n",
      "(1.5111599662593744, 3.7299177985461607)\n",
      "Доверительный интервал для b0\n",
      "(313.96538048163586, 574.3893341670824)\n"
     ]
    }
   ],
   "source": [
    "# доверительные интервалы\n",
    "print(\"Доверительный интервал для b1\")\n",
    "print((b[1] - t*err_slope, b[1] + t*err_slope))\n",
    "print(\"Доверительный интервал для b0\")\n",
    "print((b[0] - t*err_intercept, b[0] + t*err_intercept))"
   ]
  },
  {
   "cell_type": "markdown",
   "id": "35dfd471",
   "metadata": {},
   "source": [
    "__Задача 2__\n",
    "\n",
    "В каких случаях для вычисления доверительных интервалов и проверки статистических гипотез используется таблица значений функции Лапласа, а в каких - таблица квантилей распределения Стьюдента?"
   ]
  },
  {
   "cell_type": "markdown",
   "id": "b60446ac",
   "metadata": {},
   "source": [
    "Если известна <b>дисперсия</b>, то функция Лапласа, иначе квантили Стьюдента"
   ]
  },
  {
   "cell_type": "code",
   "execution_count": null,
   "id": "74c14562",
   "metadata": {},
   "outputs": [],
   "source": []
  }
 ],
 "metadata": {
  "kernelspec": {
   "display_name": "Python 3 (ipykernel)",
   "language": "python",
   "name": "python3"
  },
  "language_info": {
   "codemirror_mode": {
    "name": "ipython",
    "version": 3
   },
   "file_extension": ".py",
   "mimetype": "text/x-python",
   "name": "python",
   "nbconvert_exporter": "python",
   "pygments_lexer": "ipython3",
   "version": "3.9.7"
  }
 },
 "nbformat": 4,
 "nbformat_minor": 5
}
