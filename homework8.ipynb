{
 "cells": [
  {
   "cell_type": "markdown",
   "id": "5036bf84",
   "metadata": {},
   "source": [
    "__Задача 1__\n",
    "\n",
    "Провести дисперсионный анализ для определения того, есть ли различия среднего роста среди взрослых футболистов, хоккеистов и штангистов. Даны значения роста в трех группах случайно выбранных спортсменов: \n",
    "```\n",
    "football_players = [173, 175, 180, 178, 177, 185, 183, 182]\n",
    "hockey_players = [177, 179, 180, 188, 177, 172, 171, 184, 180]\n",
    "lifters = [172, 173, 169, 177, 166, 180, 178, 177, 172, 166, 170]\n",
    "```\n"
   ]
  },
  {
   "cell_type": "code",
   "execution_count": 4,
   "id": "acbda48a",
   "metadata": {},
   "outputs": [
    {
     "data": {
      "text/plain": [
       "array([173, 175, 180, 178, 177, 185, 183, 182, 177, 179, 180, 188, 177,\n",
       "       172, 171, 184, 180, 172, 173, 169, 177, 166, 180, 178, 177, 172,\n",
       "       166, 170])"
      ]
     },
     "execution_count": 4,
     "metadata": {},
     "output_type": "execute_result"
    }
   ],
   "source": [
    "import numpy as np\n",
    "\n",
    "y1 = np.array([173, 175, 180, 178, 177, 185, 183, 182])\n",
    "y2 = np.array([177, 179, 180, 188, 177, 172, 171, 184, 180])\n",
    "y3 = np.array([172, 173, 169, 177, 166, 180, 178, 177, 172, 166, 170])\n",
    "\n",
    "ns = np.array([len(y1), len(y2), len(y3)])\n",
    "n = ns.sum()\n",
    "y = np.concatenate([y1, y2, y3])\n",
    "y"
   ]
  },
  {
   "cell_type": "code",
   "execution_count": 10,
   "id": "710f22da",
   "metadata": {},
   "outputs": [
    {
     "data": {
      "text/plain": [
       "array([179.125     , 178.66666667, 172.72727273])"
      ]
     },
     "execution_count": 10,
     "metadata": {},
     "output_type": "execute_result"
    }
   ],
   "source": [
    "## общий средний рост\n",
    "y_mean = y.mean()\n",
    "## средние по категории\n",
    "ys_means = np.array([y1.mean(), y2.mean(), y3.mean()])\n",
    "ys_means"
   ]
  },
  {
   "cell_type": "markdown",
   "id": "90ad92cb",
   "metadata": {},
   "source": [
    "у хоккеистов и футболистов средний рост очень близко"
   ]
  },
  {
   "cell_type": "code",
   "execution_count": 12,
   "id": "4494c1c2",
   "metadata": {},
   "outputs": [
    {
     "data": {
      "text/plain": [
       "(253.9074675324678,\n",
       " 577.0568181818182,\n",
       " False,\n",
       " 830.964285714286,\n",
       " 830.9642857142854)"
      ]
     },
     "execution_count": 12,
     "metadata": {},
     "output_type": "execute_result"
    }
   ],
   "source": [
    "S2 = ((y - y_mean)**2).sum()\n",
    "S2_F = (((ys_means - y_mean)**2)*ns).sum()\n",
    "S2_res = ((y1 - ys_means[0])**2).sum() + ((y2 - ys_means[1])**2).sum() + ((y3 - ys_means[2])**2).sum()\n",
    "S2_F, S2_res, (S2_F + S2_res) == S2, S2_F + S2_res, S2\n"
   ]
  },
  {
   "cell_type": "markdown",
   "id": "9857a582",
   "metadata": {},
   "source": [
    "Ну почти. Будем считать ошибкой округления))\n",
    "Проверим значимость по критерию Фишера"
   ]
  },
  {
   "cell_type": "code",
   "execution_count": 13,
   "id": "02194c82",
   "metadata": {},
   "outputs": [
    {
     "data": {
      "text/plain": [
       "(5.500053450812598, 3.3851899614491687, True)"
      ]
     },
     "execution_count": 13,
     "metadata": {},
     "output_type": "execute_result"
    }
   ],
   "source": [
    "from scipy import stats\n",
    "\n",
    "k1 = k - 1\n",
    "k2 = n - k\n",
    "sig2_f = S2_F / k1\n",
    "sig2_res = S2_res / k2\n",
    "T = sig2_f / sig2_res\n",
    "\n",
    "F = stats.f.ppf(1-0.05, k1, k2)\n",
    "T, F, T > F"
   ]
  },
  {
   "cell_type": "markdown",
   "id": "0b0e0799",
   "metadata": {},
   "source": [
    "Отличие среднего роста среди разных групп спортсменов является статистически значимым"
   ]
  }
 ],
 "metadata": {
  "kernelspec": {
   "display_name": "Python 3 (ipykernel)",
   "language": "python",
   "name": "python3"
  },
  "language_info": {
   "codemirror_mode": {
    "name": "ipython",
    "version": 3
   },
   "file_extension": ".py",
   "mimetype": "text/x-python",
   "name": "python",
   "nbconvert_exporter": "python",
   "pygments_lexer": "ipython3",
   "version": "3.9.7"
  }
 },
 "nbformat": 4,
 "nbformat_minor": 5
}
