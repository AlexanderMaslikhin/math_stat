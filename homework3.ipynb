{
 "cells": [
  {
   "cell_type": "markdown",
   "id": "10885c6b",
   "metadata": {},
   "source": [
    "## 3. Описательная статистика. Качественные и количественные характеристики популяции. Графическое представление данных"
   ]
  },
  {
   "cell_type": "code",
   "execution_count": 22,
   "id": "4e397543",
   "metadata": {},
   "outputs": [],
   "source": [
    "import numpy as np\n",
    "from math import factorial as f\n",
    "import matplotlib.pyplot as plt\n",
    "import seaborn as sns\n",
    "\n",
    "%matplotlib inline\n",
    "\n",
    "import warnings\n",
    "warnings.filterwarnings('ignore')"
   ]
  },
  {
   "cell_type": "code",
   "execution_count": 23,
   "id": "88445fa5",
   "metadata": {},
   "outputs": [],
   "source": [
    "def c(k, n):\n",
    "    return f(n)/(f(k)*f(n-k))"
   ]
  },
  {
   "cell_type": "markdown",
   "id": "f7b6c006",
   "metadata": {},
   "source": [
    "#### 1. Даны значения зарплат из выборки выпускников: 100, 80, 75, 77, 89, 33, 45, 25, 65, 17, 30, 24, 57, 55, 70, 75, 65, 84, 90, 150. Посчитать (желательно без использования статистических методов наподобие std, var, mean) среднее арифметическое, среднее квадратичное отклонение, смещенную и несмещенную оценки дисперсий для данной выборки. Сделать графическую интерпретацию данных, проанализовать выбросы, посчитать квартили и интерквартильное расстояние"
   ]
  },
  {
   "cell_type": "code",
   "execution_count": 27,
   "id": "5292a666",
   "metadata": {},
   "outputs": [
    {
     "name": "stdout",
     "output_type": "stream",
     "text": [
      "Мат. ожидание:\n",
      "65.3 65.3\n",
      "Смещенная дисперсия:\n",
      "950.11 950.11\n",
      "Несмещенная дисперсия:\n",
      "1000.1157894736842 1000.1157894736842\n",
      "Стандартное (среднеквадратичное) отклонение:\n",
      "30.823854398825596 30.823854398825596\n"
     ]
    }
   ],
   "source": [
    "a = np.array([100, 80, 75, 77, 89, 33, 45, 25, 65, 17, 30, 24, 57, 55, 70, 75, 65, 84, 90, 150])\n",
    "mean = a.sum()/len(a)\n",
    "print(\"Мат. ожидание:\")\n",
    "print(mean, a.mean())\n",
    "var = ((a - mean)**2).sum()/len(a)\n",
    "print(\"Смещенная дисперсия:\")\n",
    "print(var, a.var())\n",
    "var_ = ((a - mean)**2).sum()/(len(a) - 1)\n",
    "print(\"Несмещенная дисперсия:\")\n",
    "print(var_, a.var(ddof=1))\n",
    "print(\"Стандартное (среднеквадратичное) отклонение:\")\n",
    "print(np.sqrt(var), a.std())"
   ]
  },
  {
   "cell_type": "code",
   "execution_count": 28,
   "id": "fc9b1858",
   "metadata": {},
   "outputs": [
    {
     "data": {
      "text/plain": [
       "(array([1., 3., 1., 0., 1., 1., 1., 3., 2., 2., 3., 0., 1., 0., 0., 0., 0.,\n",
       "        0., 0., 1.]),\n",
       " array([ 17.  ,  23.65,  30.3 ,  36.95,  43.6 ,  50.25,  56.9 ,  63.55,\n",
       "         70.2 ,  76.85,  83.5 ,  90.15,  96.8 , 103.45, 110.1 , 116.75,\n",
       "        123.4 , 130.05, 136.7 , 143.35, 150.  ]),\n",
       " <BarContainer object of 20 artists>)"
      ]
     },
     "execution_count": 28,
     "metadata": {},
     "output_type": "execute_result"
    },
    {
     "data": {
      "image/png": "[encoded data removed]",
      "text/plain": [
       "<Figure size 432x288 with 1 Axes>"
      ]
     },
     "metadata": {
      "needs_background": "light"
     },
     "output_type": "display_data"
    }
   ],
   "source": [
    "plt.hist(a, bins=20)\n"
   ]
  },
  {
   "cell_type": "code",
   "execution_count": 29,
   "id": "a24deb41",
   "metadata": {},
   "outputs": [
    {
     "data": {
      "text/plain": [
       "<AxesSubplot:>"
      ]
     },
     "execution_count": 29,
     "metadata": {},
     "output_type": "execute_result"
    },
    {
     "data": {
      "image/png": "[encoded data removed]",
      "text/plain": [
       "<Figure size 432x288 with 1 Axes>"
      ]
     },
     "metadata": {
      "needs_background": "light"
     },
     "output_type": "display_data"
    }
   ],
   "source": [
    "sns.boxplot(a, whis=1.5)\n",
    "## все, что меньше 17 и больше 100 можно считать выбросом\n",
    "## хотя на такой маленькой выборке по зарплатам вполне можен быть\n",
    "## по гистограмме можно и 100 за выброс принять\n",
    "## нужно больше данных..."
   ]
  },
  {
   "cell_type": "code",
   "execution_count": 35,
   "id": "fd53e38f",
   "metadata": {},
   "outputs": [
    {
     "name": "stdout",
     "output_type": "stream",
     "text": [
      "первый квартиль = 42.0, второй квартиль(медиана) = 67.5, третий квартиль = 81.0\n",
      "интерквартильный размах = 39.0\n"
     ]
    }
   ],
   "source": [
    "q1 = np.quantile(a, q=0.25)\n",
    "q2 = np.quantile(a, q=0.5)\n",
    "q3 = np.quantile(a, q=0.75)\n",
    "\n",
    "print(f'первый квартиль = {q1}, второй квартиль(медиана) = {q2}, третий квартиль = {q3}' )\n",
    "print(f'интерквартильный размах = {q3 -q1}')\n"
   ]
  },
  {
   "cell_type": "markdown",
   "id": "44b6a81f",
   "metadata": {},
   "source": [
    "#### 2. В первом ящике находится 8 мячей, из которых 5 - белые. Во втором ящике - 12 мячей, из которых 5 белых. Из первого ящика вытаскивают случайным образом два мяча, из второго - 4. Какова вероятность того, что 3 мяча белые?"
   ]
  },
  {
   "cell_type": "code",
   "execution_count": 36,
   "id": "2c545a53",
   "metadata": {},
   "outputs": [
    {
     "data": {
      "text/plain": [
       "0.3686868686868687"
      ]
     },
     "execution_count": 36,
     "metadata": {},
     "output_type": "execute_result"
    }
   ],
   "source": [
    "## Варианты такие: \n",
    "## 2 белых из первого, 1 из второго\n",
    "## 1 белый из первого, 2 из второго               \n",
    "## все белые из второго\n",
    "\n",
    "(c(2, 5)/c(2, 8))*((c(1, 5)*c(3, 7))/c(4, 12)) + ((c(1, 5)*c(1, 3))/c(2, 8))*((c(2, 5)*c(2, 7))/c(4, 12)) + \\\n",
    "(c(2, 3)/c(2, 8))*((c(3, 5)*c(1, 7))/c(4, 12))"
   ]
  },
  {
   "cell_type": "markdown",
   "id": "c39a30fa",
   "metadata": {},
   "source": [
    "#### 3. В университет на факультеты A и B поступило равное количество студентов, а на факультет C студентов поступило столько же, сколько на A и B вместе. Вероятность того, что студент факультета A сдаст первую сессию, равна 0.8. Для студента факультета B эта вероятность равна 0.7, а для студента факультета C - 0.9. Студент сдал первую сессию. Какова вероятность, что он учится: a). на факультете A б). на факультете B в). на факультете C?"
   ]
  },
  {
   "cell_type": "code",
   "execution_count": 40,
   "id": "f5aff87b",
   "metadata": {},
   "outputs": [
    {
     "name": "stdout",
     "output_type": "stream",
     "text": [
      "Вероятность, что сдал студент факультета А = 0.24242424242424246\n",
      "Вероятность, что сдал студент факультета В = 0.21212121212121213\n",
      "Вероятность, что сдал студент факультета С = 0.5454545454545455\n"
     ]
    }
   ],
   "source": [
    "## вероятности, что это студенты факультета А и В одинаковы и равны 1/4\n",
    "## вероятность, что это студент факультета С равна 1/2\n",
    "\n",
    "P_sessionA = 0.8\n",
    "P_sessionB = 0.7\n",
    "P_sessionC = 0.9\n",
    "## полная вероятность сдачи \n",
    "P_full = 0.25*P_sessionA + 0.25*P_sessionB + 0.5*P_sessionC\n",
    "print(f\"Вероятность, что сдал студент факультета А = {0.25*P_sessionA/P_full}\")\n",
    "print(f\"Вероятность, что сдал студент факультета В = {0.25*P_sessionB/P_full}\")\n",
    "print(f\"Вероятность, что сдал студент факультета С = {0.5*P_sessionC/P_full}\")"
   ]
  },
  {
   "cell_type": "markdown",
   "id": "ab9e99bc",
   "metadata": {},
   "source": [
    "#### 4. Устройство состоит из трех деталей. Для первой детали вероятность выйти из строя в первый месяц равна 0.1, для второй - 0.2, для третьей - 0.25. Какова вероятность того, что в первый месяц выйдут из строя: а). все детали б). только две детали в). хотя бы одна деталь г). от одной до двух деталей?"
   ]
  },
  {
   "cell_type": "code",
   "execution_count": 44,
   "id": "ab35f661",
   "metadata": {},
   "outputs": [
    {
     "name": "stdout",
     "output_type": "stream",
     "text": [
      "а) 0.005000000000000001\n",
      "б) 0.08000000000000002\n",
      "в) 0.45999999999999996\n",
      "г) 0.45500000000000007 0.45499999999999996\n"
     ]
    }
   ],
   "source": [
    "## a)\n",
    "p_a = 0.1*0.2*0.25\n",
    "print(\"а)\", p_a)\n",
    "## б)\n",
    "p_b = 0.1*0.2*(1-0.25) + 0.1*0.25*(1-0.2) + 0.2*0.25*(1-0.1)\n",
    "print(\"б)\", p_b)\n",
    "## в) тут проще посчитать вероятность, что не выдет ни одна и вычесть из 1\n",
    "p_c = 1 - (1-0.1)*(1-0.2)*(1-0.25)\n",
    "print(\"в)\", p_c)\n",
    "## г) тут посчитаем выроятность выхода одной и сложим с вероятностью выхода двух. \n",
    "p_d = p_b + 0.1*(1-0.2)*(1-0.25) + (1-0.1)*0.2*(1-0.25) + (1-0.1)*(1-0.2)*0.25\n",
    "## второй вариант вычесть из 1 веротность, что выйдут все три и вероятность что не выйдет ни одна\n",
    "p_d_ = 1 - p_a - (1-0.1)*(1-0.2)*(1-0.25)\n",
    "print(\"г)\", p_d, p_d_)"
   ]
  },
  {
   "cell_type": "code",
   "execution_count": null,
   "id": "17a75553",
   "metadata": {},
   "outputs": [],
   "source": []
  }
 ],
 "metadata": {
  "kernelspec": {
   "display_name": "Python 3 (ipykernel)",
   "language": "python",
   "name": "python3"
  },
  "language_info": {
   "codemirror_mode": {
    "name": "ipython",
    "version": 3
   },
   "file_extension": ".py",
   "mimetype": "text/x-python",
   "name": "python",
   "nbconvert_exporter": "python",
   "pygments_lexer": "ipython3",
   "version": "3.9.7"
  }
 },
 "nbformat": 4,
 "nbformat_minor": 5
}
