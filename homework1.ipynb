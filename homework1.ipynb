{
 "cells": [
  {
   "cell_type": "code",
   "execution_count": 2,
   "id": "94f0f045",
   "metadata": {},
   "outputs": [],
   "source": [
    "from math import factorial as f\n",
    "\n",
    "\n",
    "## функция для сочетаний из n по k для удобства\n",
    "def c(k, n):\n",
    "    return f(n)/(f(k)*(f(n-k)))"
   ]
  },
  {
   "cell_type": "markdown",
   "id": "642cb464",
   "metadata": {},
   "source": [
    "## Урок 1. Случайные события. Условная вероятность. Формула Байеса. Независимые испытания"
   ]
  },
  {
   "cell_type": "markdown",
   "id": "97771ab4",
   "metadata": {},
   "source": [
    "#### 1. Из колоды в 52 карты извлекаются случайным образом 4 карты. a) Найти вероятность того, что все карты – крести. б) Найти вероятность, что среди 4-х карт окажется хотя бы один туз."
   ]
  },
  {
   "cell_type": "code",
   "execution_count": 3,
   "id": "c3606c14",
   "metadata": {},
   "outputs": [
    {
     "name": "stdout",
     "output_type": "stream",
     "text": [
      "0.0026410564225690276\n",
      "0.0026410564225690276\n"
     ]
    }
   ],
   "source": [
    "## a) способ 1\n",
    "## карт одной масти в колоде 13 штук\n",
    "\n",
    "print((13/52)*(12/51)*(11/50)*(10/49))\n",
    "\n",
    "## a) способ 2 через сочетания\n",
    "\n",
    "print(c(4, 13)/c(4, 52))"
   ]
  },
  {
   "cell_type": "code",
   "execution_count": 7,
   "id": "eb0c7fe4",
   "metadata": {},
   "outputs": [
    {
     "name": "stdout",
     "output_type": "stream",
     "text": [
      "0.2812632745405855\n",
      "0.2812632745405854\n",
      "0.2812632745405854\n"
     ]
    }
   ],
   "source": [
    "## б) способ 1 \n",
    "## сумма вероятностей появления одного туза, 2х, 3х, и 4х\n",
    "print((c(1, 4)*c(3, 48))/c(4, 52) + (c(2, 4)*c(2, 48))/c(4, 52) + (c(3, 4)*c(1, 48))/c(4, 52) + 1/c(4, 52))\n",
    "\n",
    "## б) способ 2\n",
    "## из 1 вычесть вероятность случая когда не попадутся тузы вообще\n",
    "\n",
    "print(1 - ((48/52)*(47/51)*(46/50)*(45/49)))\n",
    "\n",
    "#или \n",
    "print(1 - (c(4, 48)/c(4, 52)))"
   ]
  },
  {
   "cell_type": "markdown",
   "id": "5f6dc1f8",
   "metadata": {},
   "source": [
    "#### 2. На входной двери подъезда установлен кодовый замок, содержащий десять кнопок с цифрами от 0 до 9. Код содержит три цифры, которые нужно нажать одновременно. Какова вероятность того, что человек, не знающий код, откроет дверь с первой попытки?"
   ]
  },
  {
   "cell_type": "code",
   "execution_count": 8,
   "id": "a19ee3d6",
   "metadata": {},
   "outputs": [
    {
     "data": {
      "text/plain": [
       "0.008333333333333333"
      ]
     },
     "execution_count": 8,
     "metadata": {},
     "output_type": "execute_result"
    }
   ],
   "source": [
    "## один случай из всех сочетаний 3 из 10\n",
    "1/c(3, 10)"
   ]
  },
  {
   "cell_type": "markdown",
   "id": "dd981282",
   "metadata": {},
   "source": [
    "#### 3. В ящике имеется 15 деталей, из которых 9 окрашены. Рабочий случайным образом извлекает 3 детали. Какова вероятность того, что все извлеченные детали окрашены?"
   ]
  },
  {
   "cell_type": "code",
   "execution_count": 11,
   "id": "64e3b982",
   "metadata": {},
   "outputs": [
    {
     "data": {
      "text/plain": [
       "0.18461538461538463"
      ]
     },
     "execution_count": 11,
     "metadata": {},
     "output_type": "execute_result"
    }
   ],
   "source": [
    "### количество способов выбрать 3 из 9 окрашенных делим на количество способов выбрать 3 из всех 15\n",
    "\n",
    "c(3, 9)/c(3, 15)"
   ]
  },
  {
   "cell_type": "markdown",
   "id": "6d5d62d7",
   "metadata": {},
   "source": [
    "#### 4. В лотерее 100 билетов. Из них 2 выигрышных. Какова вероятность того, что 2 приобретенных билета окажутся выигрышными?"
   ]
  },
  {
   "cell_type": "code",
   "execution_count": 12,
   "id": "aff0368d",
   "metadata": {},
   "outputs": [
    {
     "data": {
      "text/plain": [
       "0.00020202020202020202"
      ]
     },
     "execution_count": 12,
     "metadata": {},
     "output_type": "execute_result"
    }
   ],
   "source": [
    "### один случай из всех сочетаний 2 из 100\n",
    "1/c(2, 100)"
   ]
  },
  {
   "cell_type": "markdown",
   "id": "238fc1c6",
   "metadata": {},
   "source": [
    "#### 5. На соревновании по биатлону один из трех спортсменов стреляет и попадает в мишень. Вероятность попадания для первого спортсмена равна 0.9, для второго — 0.8, для третьего — 0.6. Найти вероятность того, что выстрел произведен: a). первым спортсменом б). вторым спортсменом в). третьим спортсменом."
   ]
  },
  {
   "cell_type": "code",
   "execution_count": 13,
   "id": "90067329",
   "metadata": {},
   "outputs": [
    {
     "name": "stdout",
     "output_type": "stream",
     "text": [
      "Вероятность, что выстрелил первый = 0.391304347826087\n",
      "Вероятность, что выстрелил второй = 0.3478260869565218\n",
      "Вероятность, что выстрелил третий = 0.2608695652173913\n"
     ]
    }
   ],
   "source": [
    "### Вероятности попадания каждого спорстмена\n",
    "PA_S1 = 0.9\n",
    "PA_S2 = 0.8\n",
    "PA_S3 = 0.6\n",
    "### Формула полной вероятности события A (попадания в мишень)\n",
    "PA_full = (1/3)*PA_S1 + (1/3)*PA_S2 + (1/3)*PA_S3\n",
    "\n",
    "### Формула Байеса\n",
    "\n",
    "print(f'Вероятность, что выстрелил первый = {((1/3)*PA_S1)/PA_full}')\n",
    "print(f'Вероятность, что выстрелил второй = {((1/3)*PA_S2)/PA_full}')\n",
    "print(f'Вероятность, что выстрелил третий = {((1/3)*PA_S3)/PA_full}')\n",
    "\n"
   ]
  },
  {
   "cell_type": "code",
   "execution_count": null,
   "id": "3890ab13",
   "metadata": {},
   "outputs": [],
   "source": []
  }
 ],
 "metadata": {
  "kernelspec": {
   "display_name": "Python 3 (ipykernel)",
   "language": "python",
   "name": "python3"
  },
  "language_info": {
   "codemirror_mode": {
    "name": "ipython",
    "version": 3
   },
   "file_extension": ".py",
   "mimetype": "text/x-python",
   "name": "python",
   "nbconvert_exporter": "python",
   "pygments_lexer": "ipython3",
   "version": "3.9.7"
  },
  "varInspector": {
   "cols": {
    "lenName": 16,
    "lenType": 16,
    "lenVar": 40
   },
   "kernels_config": {
    "python": {
     "delete_cmd_postfix": "",
     "delete_cmd_prefix": "del ",
     "library": "var_list.py",
     "varRefreshCmd": "print(var_dic_list())"
    },
    "r": {
     "delete_cmd_postfix": ") ",
     "delete_cmd_prefix": "rm(",
     "library": "var_list.r",
     "varRefreshCmd": "cat(var_dic_list()) "
    }
   },
   "types_to_exclude": [
    "module",
    "function",
    "builtin_function_or_method",
    "instance",
    "_Feature"
   ],
   "window_display": false
  }
 },
 "nbformat": 4,
 "nbformat_minor": 5
}
