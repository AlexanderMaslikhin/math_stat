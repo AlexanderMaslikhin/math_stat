{
 "cells": [
  {
   "cell_type": "code",
   "execution_count": 1,
   "id": "870f0db3",
   "metadata": {},
   "outputs": [],
   "source": [
    "import numpy as np\n",
    "import pandas as pd\n",
    "import matplotlib.pyplot as plt\n",
    "import seaborn as sns\n",
    "%matplotlib inline\n",
    "\n"
   ]
  },
  {
   "cell_type": "code",
   "execution_count": 2,
   "id": "ca599b0f",
   "metadata": {},
   "outputs": [
    {
     "data": {
      "text/html": [
       "<div>\n",
       "<style scoped>\n",
       "    .dataframe tbody tr th:only-of-type {\n",
       "        vertical-align: middle;\n",
       "    }\n",
       "\n",
       "    .dataframe tbody tr th {\n",
       "        vertical-align: top;\n",
       "    }\n",
       "\n",
       "    .dataframe thead th {\n",
       "        text-align: right;\n",
       "    }\n",
       "</style>\n",
       "<table border=\"1\" class=\"dataframe\">\n",
       "  <thead>\n",
       "    <tr style=\"text-align: right;\">\n",
       "      <th></th>\n",
       "      <th>dt</th>\n",
       "      <th>LandAverageTemperature</th>\n",
       "      <th>LandAverageTemperatureUncertainty</th>\n",
       "      <th>LandMaxTemperature</th>\n",
       "      <th>LandMaxTemperatureUncertainty</th>\n",
       "      <th>LandMinTemperature</th>\n",
       "      <th>LandMinTemperatureUncertainty</th>\n",
       "      <th>LandAndOceanAverageTemperature</th>\n",
       "      <th>LandAndOceanAverageTemperatureUncertainty</th>\n",
       "    </tr>\n",
       "  </thead>\n",
       "  <tbody>\n",
       "    <tr>\n",
       "      <th>0</th>\n",
       "      <td>1750-01-01</td>\n",
       "      <td>3.034</td>\n",
       "      <td>3.574</td>\n",
       "      <td>NaN</td>\n",
       "      <td>NaN</td>\n",
       "      <td>NaN</td>\n",
       "      <td>NaN</td>\n",
       "      <td>NaN</td>\n",
       "      <td>NaN</td>\n",
       "    </tr>\n",
       "    <tr>\n",
       "      <th>1</th>\n",
       "      <td>1750-02-01</td>\n",
       "      <td>3.083</td>\n",
       "      <td>3.702</td>\n",
       "      <td>NaN</td>\n",
       "      <td>NaN</td>\n",
       "      <td>NaN</td>\n",
       "      <td>NaN</td>\n",
       "      <td>NaN</td>\n",
       "      <td>NaN</td>\n",
       "    </tr>\n",
       "    <tr>\n",
       "      <th>2</th>\n",
       "      <td>1750-03-01</td>\n",
       "      <td>5.626</td>\n",
       "      <td>3.076</td>\n",
       "      <td>NaN</td>\n",
       "      <td>NaN</td>\n",
       "      <td>NaN</td>\n",
       "      <td>NaN</td>\n",
       "      <td>NaN</td>\n",
       "      <td>NaN</td>\n",
       "    </tr>\n",
       "    <tr>\n",
       "      <th>3</th>\n",
       "      <td>1750-04-01</td>\n",
       "      <td>8.490</td>\n",
       "      <td>2.451</td>\n",
       "      <td>NaN</td>\n",
       "      <td>NaN</td>\n",
       "      <td>NaN</td>\n",
       "      <td>NaN</td>\n",
       "      <td>NaN</td>\n",
       "      <td>NaN</td>\n",
       "    </tr>\n",
       "    <tr>\n",
       "      <th>4</th>\n",
       "      <td>1750-05-01</td>\n",
       "      <td>11.573</td>\n",
       "      <td>2.072</td>\n",
       "      <td>NaN</td>\n",
       "      <td>NaN</td>\n",
       "      <td>NaN</td>\n",
       "      <td>NaN</td>\n",
       "      <td>NaN</td>\n",
       "      <td>NaN</td>\n",
       "    </tr>\n",
       "  </tbody>\n",
       "</table>\n",
       "</div>"
      ],
      "text/plain": [
       "           dt  LandAverageTemperature  LandAverageTemperatureUncertainty  \\\n",
       "0  1750-01-01                   3.034                              3.574   \n",
       "1  1750-02-01                   3.083                              3.702   \n",
       "2  1750-03-01                   5.626                              3.076   \n",
       "3  1750-04-01                   8.490                              2.451   \n",
       "4  1750-05-01                  11.573                              2.072   \n",
       "\n",
       "   LandMaxTemperature  LandMaxTemperatureUncertainty  LandMinTemperature  \\\n",
       "0                 NaN                            NaN                 NaN   \n",
       "1                 NaN                            NaN                 NaN   \n",
       "2                 NaN                            NaN                 NaN   \n",
       "3                 NaN                            NaN                 NaN   \n",
       "4                 NaN                            NaN                 NaN   \n",
       "\n",
       "   LandMinTemperatureUncertainty  LandAndOceanAverageTemperature  \\\n",
       "0                            NaN                             NaN   \n",
       "1                            NaN                             NaN   \n",
       "2                            NaN                             NaN   \n",
       "3                            NaN                             NaN   \n",
       "4                            NaN                             NaN   \n",
       "\n",
       "   LandAndOceanAverageTemperatureUncertainty  \n",
       "0                                        NaN  \n",
       "1                                        NaN  \n",
       "2                                        NaN  \n",
       "3                                        NaN  \n",
       "4                                        NaN  "
      ]
     },
     "execution_count": 2,
     "metadata": {},
     "output_type": "execute_result"
    }
   ],
   "source": [
    "temperature = pd.read_csv(\"./GlobalTemperatures.csv\")\n",
    "temperature.head()"
   ]
  },
  {
   "cell_type": "code",
   "execution_count": 3,
   "id": "58fd9ae4",
   "metadata": {},
   "outputs": [
    {
     "name": "stdout",
     "output_type": "stream",
     "text": [
      "<class 'pandas.core.frame.DataFrame'>\n",
      "RangeIndex: 3192 entries, 0 to 3191\n",
      "Data columns (total 9 columns):\n",
      " #   Column                                     Non-Null Count  Dtype  \n",
      "---  ------                                     --------------  -----  \n",
      " 0   dt                                         3192 non-null   object \n",
      " 1   LandAverageTemperature                     3180 non-null   float64\n",
      " 2   LandAverageTemperatureUncertainty          3180 non-null   float64\n",
      " 3   LandMaxTemperature                         1992 non-null   float64\n",
      " 4   LandMaxTemperatureUncertainty              1992 non-null   float64\n",
      " 5   LandMinTemperature                         1992 non-null   float64\n",
      " 6   LandMinTemperatureUncertainty              1992 non-null   float64\n",
      " 7   LandAndOceanAverageTemperature             1992 non-null   float64\n",
      " 8   LandAndOceanAverageTemperatureUncertainty  1992 non-null   float64\n",
      "dtypes: float64(8), object(1)\n",
      "memory usage: 224.6+ KB\n"
     ]
    }
   ],
   "source": [
    "temperature.info()"
   ]
  },
  {
   "cell_type": "code",
   "execution_count": 4,
   "id": "e010ad80",
   "metadata": {},
   "outputs": [],
   "source": [
    "temp = temperature[temperature[\"dt\"] >= \"1850-01-01\"].drop(columns=[\"LandAverageTemperatureUncertainty\",\n",
    "                                                                          \"LandMaxTemperatureUncertainty\",\n",
    "                                                                          \"LandMinTemperatureUncertainty\",\n",
    "                                                                          \"LandAndOceanAverageTemperatureUncertainty\"])"
   ]
  },
  {
   "cell_type": "code",
   "execution_count": 5,
   "id": "7378c78a",
   "metadata": {},
   "outputs": [
    {
     "name": "stdout",
     "output_type": "stream",
     "text": [
      "<class 'pandas.core.frame.DataFrame'>\n",
      "Int64Index: 1992 entries, 1200 to 3191\n",
      "Data columns (total 5 columns):\n",
      " #   Column                          Non-Null Count  Dtype  \n",
      "---  ------                          --------------  -----  \n",
      " 0   dt                              1992 non-null   object \n",
      " 1   LandAverageTemperature          1992 non-null   float64\n",
      " 2   LandMaxTemperature              1992 non-null   float64\n",
      " 3   LandMinTemperature              1992 non-null   float64\n",
      " 4   LandAndOceanAverageTemperature  1992 non-null   float64\n",
      "dtypes: float64(4), object(1)\n",
      "memory usage: 93.4+ KB\n"
     ]
    }
   ],
   "source": [
    "temp.info()"
   ]
  },
  {
   "cell_type": "code",
   "execution_count": 6,
   "id": "6fa78108",
   "metadata": {},
   "outputs": [
    {
     "data": {
      "text/html": [
       "<div>\n",
       "<style scoped>\n",
       "    .dataframe tbody tr th:only-of-type {\n",
       "        vertical-align: middle;\n",
       "    }\n",
       "\n",
       "    .dataframe tbody tr th {\n",
       "        vertical-align: top;\n",
       "    }\n",
       "\n",
       "    .dataframe thead th {\n",
       "        text-align: right;\n",
       "    }\n",
       "</style>\n",
       "<table border=\"1\" class=\"dataframe\">\n",
       "  <thead>\n",
       "    <tr style=\"text-align: right;\">\n",
       "      <th></th>\n",
       "      <th>LandAverageTemperature</th>\n",
       "      <th>LandMaxTemperature</th>\n",
       "      <th>LandMinTemperature</th>\n",
       "      <th>LandAndOceanAverageTemperature</th>\n",
       "    </tr>\n",
       "  </thead>\n",
       "  <tbody>\n",
       "    <tr>\n",
       "      <th>count</th>\n",
       "      <td>1992.000000</td>\n",
       "      <td>1992.000000</td>\n",
       "      <td>1992.000000</td>\n",
       "      <td>1992.000000</td>\n",
       "    </tr>\n",
       "    <tr>\n",
       "      <th>mean</th>\n",
       "      <td>8.571583</td>\n",
       "      <td>14.350601</td>\n",
       "      <td>2.743595</td>\n",
       "      <td>15.212566</td>\n",
       "    </tr>\n",
       "    <tr>\n",
       "      <th>std</th>\n",
       "      <td>4.263193</td>\n",
       "      <td>4.309579</td>\n",
       "      <td>4.155835</td>\n",
       "      <td>1.274093</td>\n",
       "    </tr>\n",
       "    <tr>\n",
       "      <th>min</th>\n",
       "      <td>0.404000</td>\n",
       "      <td>5.900000</td>\n",
       "      <td>-5.407000</td>\n",
       "      <td>12.475000</td>\n",
       "    </tr>\n",
       "    <tr>\n",
       "      <th>25%</th>\n",
       "      <td>4.430000</td>\n",
       "      <td>10.212000</td>\n",
       "      <td>-1.334500</td>\n",
       "      <td>14.047000</td>\n",
       "    </tr>\n",
       "    <tr>\n",
       "      <th>50%</th>\n",
       "      <td>8.850500</td>\n",
       "      <td>14.760000</td>\n",
       "      <td>2.949500</td>\n",
       "      <td>15.251000</td>\n",
       "    </tr>\n",
       "    <tr>\n",
       "      <th>75%</th>\n",
       "      <td>12.858500</td>\n",
       "      <td>18.451500</td>\n",
       "      <td>6.778750</td>\n",
       "      <td>16.396250</td>\n",
       "    </tr>\n",
       "    <tr>\n",
       "      <th>max</th>\n",
       "      <td>15.482000</td>\n",
       "      <td>21.320000</td>\n",
       "      <td>9.715000</td>\n",
       "      <td>17.611000</td>\n",
       "    </tr>\n",
       "  </tbody>\n",
       "</table>\n",
       "</div>"
      ],
      "text/plain": [
       "       LandAverageTemperature  LandMaxTemperature  LandMinTemperature  \\\n",
       "count             1992.000000         1992.000000         1992.000000   \n",
       "mean                 8.571583           14.350601            2.743595   \n",
       "std                  4.263193            4.309579            4.155835   \n",
       "min                  0.404000            5.900000           -5.407000   \n",
       "25%                  4.430000           10.212000           -1.334500   \n",
       "50%                  8.850500           14.760000            2.949500   \n",
       "75%                 12.858500           18.451500            6.778750   \n",
       "max                 15.482000           21.320000            9.715000   \n",
       "\n",
       "       LandAndOceanAverageTemperature  \n",
       "count                     1992.000000  \n",
       "mean                        15.212566  \n",
       "std                          1.274093  \n",
       "min                         12.475000  \n",
       "25%                         14.047000  \n",
       "50%                         15.251000  \n",
       "75%                         16.396250  \n",
       "max                         17.611000  "
      ]
     },
     "execution_count": 6,
     "metadata": {},
     "output_type": "execute_result"
    }
   ],
   "source": [
    "temp.describe()"
   ]
  },
  {
   "cell_type": "code",
   "execution_count": 7,
   "id": "faf04e6a",
   "metadata": {},
   "outputs": [
    {
     "data": {
      "text/plain": [
       "<AxesSubplot:xlabel='dt'>"
      ]
     },
     "execution_count": 7,
     "metadata": {},
     "output_type": "execute_result"
    },
    {
     "data": {
      "image/png": "[encoded data removed]",
      "text/plain": [
       "<Figure size 864x432 with 1 Axes>"
      ]
     },
     "metadata": {
      "needs_background": "light"
     },
     "output_type": "display_data"
    }
   ],
   "source": [
    "temp[\"dt\"] = pd.to_datetime(temp[\"dt\"])\n",
    "land_and_ocean = temp[[\"dt\",\"LandAndOceanAverageTemperature\"]].set_index(\"dt\")\n",
    "plt.rcParams[\"figure.figsize\"] = (12,6)\n",
    "land_and_ocean.head(40).plot()"
   ]
  },
  {
   "cell_type": "markdown",
   "id": "e34a7d83",
   "metadata": {},
   "source": [
    "В наборе данных представлена среднемесячная температура. Нам нужна среднегодовая, что удобнее, нет сезонных колебаний"
   ]
  },
  {
   "cell_type": "code",
   "execution_count": 8,
   "id": "d548a153",
   "metadata": {},
   "outputs": [
    {
     "data": {
      "text/html": [
       "<div>\n",
       "<style scoped>\n",
       "    .dataframe tbody tr th:only-of-type {\n",
       "        vertical-align: middle;\n",
       "    }\n",
       "\n",
       "    .dataframe tbody tr th {\n",
       "        vertical-align: top;\n",
       "    }\n",
       "\n",
       "    .dataframe thead th {\n",
       "        text-align: right;\n",
       "    }\n",
       "</style>\n",
       "<table border=\"1\" class=\"dataframe\">\n",
       "  <thead>\n",
       "    <tr style=\"text-align: right;\">\n",
       "      <th></th>\n",
       "      <th>LandAverageTemperature</th>\n",
       "      <th>LandMaxTemperature</th>\n",
       "      <th>LandMinTemperature</th>\n",
       "      <th>LandAndOceanAverageTemperature</th>\n",
       "    </tr>\n",
       "    <tr>\n",
       "      <th>Year</th>\n",
       "      <th></th>\n",
       "      <th></th>\n",
       "      <th></th>\n",
       "      <th></th>\n",
       "    </tr>\n",
       "  </thead>\n",
       "  <tbody>\n",
       "    <tr>\n",
       "      <th>1850</th>\n",
       "      <td>7.900667</td>\n",
       "      <td>13.476667</td>\n",
       "      <td>1.964333</td>\n",
       "      <td>14.867167</td>\n",
       "    </tr>\n",
       "    <tr>\n",
       "      <th>1851</th>\n",
       "      <td>8.178583</td>\n",
       "      <td>13.081000</td>\n",
       "      <td>2.203917</td>\n",
       "      <td>14.991833</td>\n",
       "    </tr>\n",
       "    <tr>\n",
       "      <th>1852</th>\n",
       "      <td>8.100167</td>\n",
       "      <td>13.397333</td>\n",
       "      <td>2.337000</td>\n",
       "      <td>15.006500</td>\n",
       "    </tr>\n",
       "    <tr>\n",
       "      <th>1853</th>\n",
       "      <td>8.041833</td>\n",
       "      <td>13.886583</td>\n",
       "      <td>1.892500</td>\n",
       "      <td>14.955167</td>\n",
       "    </tr>\n",
       "    <tr>\n",
       "      <th>1854</th>\n",
       "      <td>8.210500</td>\n",
       "      <td>13.977417</td>\n",
       "      <td>1.762167</td>\n",
       "      <td>14.991000</td>\n",
       "    </tr>\n",
       "  </tbody>\n",
       "</table>\n",
       "</div>"
      ],
      "text/plain": [
       "      LandAverageTemperature  LandMaxTemperature  LandMinTemperature  \\\n",
       "Year                                                                   \n",
       "1850                7.900667           13.476667            1.964333   \n",
       "1851                8.178583           13.081000            2.203917   \n",
       "1852                8.100167           13.397333            2.337000   \n",
       "1853                8.041833           13.886583            1.892500   \n",
       "1854                8.210500           13.977417            1.762167   \n",
       "\n",
       "      LandAndOceanAverageTemperature  \n",
       "Year                                  \n",
       "1850                       14.867167  \n",
       "1851                       14.991833  \n",
       "1852                       15.006500  \n",
       "1853                       14.955167  \n",
       "1854                       14.991000  "
      ]
     },
     "execution_count": 8,
     "metadata": {},
     "output_type": "execute_result"
    }
   ],
   "source": [
    "temp = temp.set_index(temp[\"dt\"])\n",
    "temp = temp.sort_index()\n",
    "temp = temp.resample('A').mean()\n",
    "temp.index.rename(\"Year\", inplace=True)\n",
    "temp.index = temp.index.year\n",
    "temp.head()"
   ]
  },
  {
   "cell_type": "code",
   "execution_count": 9,
   "id": "56a8726b",
   "metadata": {},
   "outputs": [
    {
     "data": {
      "text/html": [
       "<div>\n",
       "<style scoped>\n",
       "    .dataframe tbody tr th:only-of-type {\n",
       "        vertical-align: middle;\n",
       "    }\n",
       "\n",
       "    .dataframe tbody tr th {\n",
       "        vertical-align: top;\n",
       "    }\n",
       "\n",
       "    .dataframe thead th {\n",
       "        text-align: right;\n",
       "    }\n",
       "</style>\n",
       "<table border=\"1\" class=\"dataframe\">\n",
       "  <thead>\n",
       "    <tr style=\"text-align: right;\">\n",
       "      <th></th>\n",
       "      <th>Entity</th>\n",
       "      <th>Code</th>\n",
       "      <th>Year</th>\n",
       "      <th>Number of reported natural disasters (reported disasters)</th>\n",
       "    </tr>\n",
       "  </thead>\n",
       "  <tbody>\n",
       "    <tr>\n",
       "      <th>0</th>\n",
       "      <td>All natural disasters</td>\n",
       "      <td>NaN</td>\n",
       "      <td>1900</td>\n",
       "      <td>5</td>\n",
       "    </tr>\n",
       "    <tr>\n",
       "      <th>1</th>\n",
       "      <td>All natural disasters</td>\n",
       "      <td>NaN</td>\n",
       "      <td>1901</td>\n",
       "      <td>2</td>\n",
       "    </tr>\n",
       "    <tr>\n",
       "      <th>2</th>\n",
       "      <td>All natural disasters</td>\n",
       "      <td>NaN</td>\n",
       "      <td>1902</td>\n",
       "      <td>9</td>\n",
       "    </tr>\n",
       "    <tr>\n",
       "      <th>3</th>\n",
       "      <td>All natural disasters</td>\n",
       "      <td>NaN</td>\n",
       "      <td>1903</td>\n",
       "      <td>8</td>\n",
       "    </tr>\n",
       "    <tr>\n",
       "      <th>4</th>\n",
       "      <td>All natural disasters</td>\n",
       "      <td>NaN</td>\n",
       "      <td>1904</td>\n",
       "      <td>2</td>\n",
       "    </tr>\n",
       "  </tbody>\n",
       "</table>\n",
       "</div>"
      ],
      "text/plain": [
       "                  Entity  Code  Year  \\\n",
       "0  All natural disasters   NaN  1900   \n",
       "1  All natural disasters   NaN  1901   \n",
       "2  All natural disasters   NaN  1902   \n",
       "3  All natural disasters   NaN  1903   \n",
       "4  All natural disasters   NaN  1904   \n",
       "\n",
       "   Number of reported natural disasters (reported disasters)  \n",
       "0                                                  5          \n",
       "1                                                  2          \n",
       "2                                                  9          \n",
       "3                                                  8          \n",
       "4                                                  2          "
      ]
     },
     "execution_count": 9,
     "metadata": {},
     "output_type": "execute_result"
    }
   ],
   "source": [
    "disasters = pd.read_csv(\"./number-of-natural-disaster-events.csv\")\n",
    "disasters.head()"
   ]
  },
  {
   "cell_type": "markdown",
   "id": "c8d00aed",
   "metadata": {},
   "source": [
    "Данные о катаклизмах начинаются с 1900 года, поэтому в данных температуры смело дропаем все, что раньше 1900"
   ]
  },
  {
   "cell_type": "code",
   "execution_count": 10,
   "id": "3665cc98",
   "metadata": {},
   "outputs": [
    {
     "data": {
      "text/html": [
       "<div>\n",
       "<style scoped>\n",
       "    .dataframe tbody tr th:only-of-type {\n",
       "        vertical-align: middle;\n",
       "    }\n",
       "\n",
       "    .dataframe tbody tr th {\n",
       "        vertical-align: top;\n",
       "    }\n",
       "\n",
       "    .dataframe thead th {\n",
       "        text-align: right;\n",
       "    }\n",
       "</style>\n",
       "<table border=\"1\" class=\"dataframe\">\n",
       "  <thead>\n",
       "    <tr style=\"text-align: right;\">\n",
       "      <th></th>\n",
       "      <th>land_average_temp</th>\n",
       "      <th>land_max_temp</th>\n",
       "      <th>land_min_temp</th>\n",
       "      <th>land_and_ocean_av</th>\n",
       "    </tr>\n",
       "    <tr>\n",
       "      <th>Year</th>\n",
       "      <th></th>\n",
       "      <th></th>\n",
       "      <th></th>\n",
       "      <th></th>\n",
       "    </tr>\n",
       "  </thead>\n",
       "  <tbody>\n",
       "    <tr>\n",
       "      <th>1900</th>\n",
       "      <td>8.501583</td>\n",
       "      <td>14.389500</td>\n",
       "      <td>2.575667</td>\n",
       "      <td>15.143917</td>\n",
       "    </tr>\n",
       "    <tr>\n",
       "      <th>1901</th>\n",
       "      <td>8.541917</td>\n",
       "      <td>14.512167</td>\n",
       "      <td>2.490500</td>\n",
       "      <td>15.073333</td>\n",
       "    </tr>\n",
       "    <tr>\n",
       "      <th>1902</th>\n",
       "      <td>8.304417</td>\n",
       "      <td>14.364250</td>\n",
       "      <td>2.203750</td>\n",
       "      <td>14.958333</td>\n",
       "    </tr>\n",
       "    <tr>\n",
       "      <th>1903</th>\n",
       "      <td>8.220167</td>\n",
       "      <td>14.085750</td>\n",
       "      <td>2.283333</td>\n",
       "      <td>14.836583</td>\n",
       "    </tr>\n",
       "    <tr>\n",
       "      <th>1904</th>\n",
       "      <td>8.090917</td>\n",
       "      <td>14.063667</td>\n",
       "      <td>2.171083</td>\n",
       "      <td>14.810417</td>\n",
       "    </tr>\n",
       "  </tbody>\n",
       "</table>\n",
       "</div>"
      ],
      "text/plain": [
       "      land_average_temp  land_max_temp  land_min_temp  land_and_ocean_av\n",
       "Year                                                                    \n",
       "1900           8.501583      14.389500       2.575667          15.143917\n",
       "1901           8.541917      14.512167       2.490500          15.073333\n",
       "1902           8.304417      14.364250       2.203750          14.958333\n",
       "1903           8.220167      14.085750       2.283333          14.836583\n",
       "1904           8.090917      14.063667       2.171083          14.810417"
      ]
     },
     "execution_count": 10,
     "metadata": {},
     "output_type": "execute_result"
    }
   ],
   "source": [
    "temp = temp[temp.index >= 1900]\n",
    "temp.rename(columns={\"LandAverageTemperature\": \"land_average_temp\",\n",
    "                    \"LandMaxTemperature\": \"land_max_temp\",\n",
    "                    \"LandMinTemperature\": \"land_min_temp\",\n",
    "                    \"LandAndOceanAverageTemperature\": \"land_and_ocean_av\"}, inplace=True)\n",
    "temp.head()"
   ]
  },
  {
   "cell_type": "code",
   "execution_count": 11,
   "id": "93139796",
   "metadata": {},
   "outputs": [
    {
     "name": "stdout",
     "output_type": "stream",
     "text": [
      "<class 'pandas.core.frame.DataFrame'>\n",
      "RangeIndex: 828 entries, 0 to 827\n",
      "Data columns (total 4 columns):\n",
      " #   Column                                                     Non-Null Count  Dtype  \n",
      "---  ------                                                     --------------  -----  \n",
      " 0   Entity                                                     828 non-null    object \n",
      " 1   Code                                                       0 non-null      float64\n",
      " 2   Year                                                       828 non-null    int64  \n",
      " 3   Number of reported natural disasters (reported disasters)  828 non-null    int64  \n",
      "dtypes: float64(1), int64(2), object(1)\n",
      "memory usage: 26.0+ KB\n"
     ]
    }
   ],
   "source": [
    "disasters.info()"
   ]
  },
  {
   "cell_type": "code",
   "execution_count": 12,
   "id": "4e3fd5cc",
   "metadata": {},
   "outputs": [
    {
     "data": {
      "text/plain": [
       "All natural disasters    119\n",
       "Earthquake               115\n",
       "Extreme weather          115\n",
       "Flood                     95\n",
       "Landslide                 80\n",
       "Volcanic activity         78\n",
       "Drought                   73\n",
       "Wildfire                  62\n",
       "Extreme temperature       57\n",
       "Mass movement (dry)       33\n",
       "Impact                     1\n",
       "Name: Entity, dtype: int64"
      ]
     },
     "execution_count": 12,
     "metadata": {},
     "output_type": "execute_result"
    }
   ],
   "source": [
    "disasters[\"Entity\"].value_counts()"
   ]
  },
  {
   "cell_type": "code",
   "execution_count": 13,
   "id": "a6952c96",
   "metadata": {},
   "outputs": [
    {
     "data": {
      "text/html": [
       "<div>\n",
       "<style scoped>\n",
       "    .dataframe tbody tr th:only-of-type {\n",
       "        vertical-align: middle;\n",
       "    }\n",
       "\n",
       "    .dataframe tbody tr th {\n",
       "        vertical-align: top;\n",
       "    }\n",
       "\n",
       "    .dataframe thead th {\n",
       "        text-align: right;\n",
       "    }\n",
       "</style>\n",
       "<table border=\"1\" class=\"dataframe\">\n",
       "  <thead>\n",
       "    <tr style=\"text-align: right;\">\n",
       "      <th>Entity</th>\n",
       "      <th>All natural disasters</th>\n",
       "      <th>Drought</th>\n",
       "      <th>Earthquake</th>\n",
       "      <th>Extreme temperature</th>\n",
       "      <th>Extreme weather</th>\n",
       "      <th>Flood</th>\n",
       "      <th>Impact</th>\n",
       "      <th>Landslide</th>\n",
       "      <th>Mass movement (dry)</th>\n",
       "      <th>Volcanic activity</th>\n",
       "      <th>Wildfire</th>\n",
       "    </tr>\n",
       "    <tr>\n",
       "      <th>Year</th>\n",
       "      <th></th>\n",
       "      <th></th>\n",
       "      <th></th>\n",
       "      <th></th>\n",
       "      <th></th>\n",
       "      <th></th>\n",
       "      <th></th>\n",
       "      <th></th>\n",
       "      <th></th>\n",
       "      <th></th>\n",
       "      <th></th>\n",
       "    </tr>\n",
       "  </thead>\n",
       "  <tbody>\n",
       "    <tr>\n",
       "      <th>1900</th>\n",
       "      <td>5.0</td>\n",
       "      <td>2.0</td>\n",
       "      <td>NaN</td>\n",
       "      <td>NaN</td>\n",
       "      <td>1.0</td>\n",
       "      <td>1.0</td>\n",
       "      <td>NaN</td>\n",
       "      <td>NaN</td>\n",
       "      <td>NaN</td>\n",
       "      <td>1.0</td>\n",
       "      <td>NaN</td>\n",
       "    </tr>\n",
       "    <tr>\n",
       "      <th>1901</th>\n",
       "      <td>2.0</td>\n",
       "      <td>NaN</td>\n",
       "      <td>2.0</td>\n",
       "      <td>NaN</td>\n",
       "      <td>NaN</td>\n",
       "      <td>NaN</td>\n",
       "      <td>NaN</td>\n",
       "      <td>NaN</td>\n",
       "      <td>NaN</td>\n",
       "      <td>NaN</td>\n",
       "      <td>NaN</td>\n",
       "    </tr>\n",
       "    <tr>\n",
       "      <th>1902</th>\n",
       "      <td>9.0</td>\n",
       "      <td>NaN</td>\n",
       "      <td>3.0</td>\n",
       "      <td>NaN</td>\n",
       "      <td>1.0</td>\n",
       "      <td>NaN</td>\n",
       "      <td>NaN</td>\n",
       "      <td>NaN</td>\n",
       "      <td>NaN</td>\n",
       "      <td>5.0</td>\n",
       "      <td>NaN</td>\n",
       "    </tr>\n",
       "    <tr>\n",
       "      <th>1903</th>\n",
       "      <td>8.0</td>\n",
       "      <td>1.0</td>\n",
       "      <td>1.0</td>\n",
       "      <td>NaN</td>\n",
       "      <td>2.0</td>\n",
       "      <td>2.0</td>\n",
       "      <td>NaN</td>\n",
       "      <td>NaN</td>\n",
       "      <td>1.0</td>\n",
       "      <td>1.0</td>\n",
       "      <td>NaN</td>\n",
       "    </tr>\n",
       "    <tr>\n",
       "      <th>1904</th>\n",
       "      <td>2.0</td>\n",
       "      <td>NaN</td>\n",
       "      <td>1.0</td>\n",
       "      <td>NaN</td>\n",
       "      <td>1.0</td>\n",
       "      <td>NaN</td>\n",
       "      <td>NaN</td>\n",
       "      <td>NaN</td>\n",
       "      <td>NaN</td>\n",
       "      <td>NaN</td>\n",
       "      <td>NaN</td>\n",
       "    </tr>\n",
       "    <tr>\n",
       "      <th>...</th>\n",
       "      <td>...</td>\n",
       "      <td>...</td>\n",
       "      <td>...</td>\n",
       "      <td>...</td>\n",
       "      <td>...</td>\n",
       "      <td>...</td>\n",
       "      <td>...</td>\n",
       "      <td>...</td>\n",
       "      <td>...</td>\n",
       "      <td>...</td>\n",
       "      <td>...</td>\n",
       "    </tr>\n",
       "    <tr>\n",
       "      <th>2014</th>\n",
       "      <td>320.0</td>\n",
       "      <td>18.0</td>\n",
       "      <td>26.0</td>\n",
       "      <td>17.0</td>\n",
       "      <td>99.0</td>\n",
       "      <td>135.0</td>\n",
       "      <td>NaN</td>\n",
       "      <td>15.0</td>\n",
       "      <td>NaN</td>\n",
       "      <td>6.0</td>\n",
       "      <td>4.0</td>\n",
       "    </tr>\n",
       "    <tr>\n",
       "      <th>2015</th>\n",
       "      <td>380.0</td>\n",
       "      <td>28.0</td>\n",
       "      <td>23.0</td>\n",
       "      <td>12.0</td>\n",
       "      <td>118.0</td>\n",
       "      <td>160.0</td>\n",
       "      <td>NaN</td>\n",
       "      <td>20.0</td>\n",
       "      <td>1.0</td>\n",
       "      <td>6.0</td>\n",
       "      <td>12.0</td>\n",
       "    </tr>\n",
       "    <tr>\n",
       "      <th>2016</th>\n",
       "      <td>325.0</td>\n",
       "      <td>15.0</td>\n",
       "      <td>30.0</td>\n",
       "      <td>12.0</td>\n",
       "      <td>84.0</td>\n",
       "      <td>161.0</td>\n",
       "      <td>NaN</td>\n",
       "      <td>13.0</td>\n",
       "      <td>NaN</td>\n",
       "      <td>NaN</td>\n",
       "      <td>10.0</td>\n",
       "    </tr>\n",
       "    <tr>\n",
       "      <th>2017</th>\n",
       "      <td>276.0</td>\n",
       "      <td>7.0</td>\n",
       "      <td>19.0</td>\n",
       "      <td>11.0</td>\n",
       "      <td>85.0</td>\n",
       "      <td>114.0</td>\n",
       "      <td>NaN</td>\n",
       "      <td>25.0</td>\n",
       "      <td>NaN</td>\n",
       "      <td>2.0</td>\n",
       "      <td>13.0</td>\n",
       "    </tr>\n",
       "    <tr>\n",
       "      <th>2018</th>\n",
       "      <td>282.0</td>\n",
       "      <td>13.0</td>\n",
       "      <td>20.0</td>\n",
       "      <td>25.0</td>\n",
       "      <td>84.0</td>\n",
       "      <td>109.0</td>\n",
       "      <td>NaN</td>\n",
       "      <td>13.0</td>\n",
       "      <td>1.0</td>\n",
       "      <td>7.0</td>\n",
       "      <td>10.0</td>\n",
       "    </tr>\n",
       "  </tbody>\n",
       "</table>\n",
       "<p>119 rows × 11 columns</p>\n",
       "</div>"
      ],
      "text/plain": [
       "Entity  All natural disasters  Drought  Earthquake  Extreme temperature  \\\n",
       "Year                                                                      \n",
       "1900                      5.0      2.0         NaN                  NaN   \n",
       "1901                      2.0      NaN         2.0                  NaN   \n",
       "1902                      9.0      NaN         3.0                  NaN   \n",
       "1903                      8.0      1.0         1.0                  NaN   \n",
       "1904                      2.0      NaN         1.0                  NaN   \n",
       "...                       ...      ...         ...                  ...   \n",
       "2014                    320.0     18.0        26.0                 17.0   \n",
       "2015                    380.0     28.0        23.0                 12.0   \n",
       "2016                    325.0     15.0        30.0                 12.0   \n",
       "2017                    276.0      7.0        19.0                 11.0   \n",
       "2018                    282.0     13.0        20.0                 25.0   \n",
       "\n",
       "Entity  Extreme weather  Flood  Impact  Landslide  Mass movement (dry)  \\\n",
       "Year                                                                     \n",
       "1900                1.0    1.0     NaN        NaN                  NaN   \n",
       "1901                NaN    NaN     NaN        NaN                  NaN   \n",
       "1902                1.0    NaN     NaN        NaN                  NaN   \n",
       "1903                2.0    2.0     NaN        NaN                  1.0   \n",
       "1904                1.0    NaN     NaN        NaN                  NaN   \n",
       "...                 ...    ...     ...        ...                  ...   \n",
       "2014               99.0  135.0     NaN       15.0                  NaN   \n",
       "2015              118.0  160.0     NaN       20.0                  1.0   \n",
       "2016               84.0  161.0     NaN       13.0                  NaN   \n",
       "2017               85.0  114.0     NaN       25.0                  NaN   \n",
       "2018               84.0  109.0     NaN       13.0                  1.0   \n",
       "\n",
       "Entity  Volcanic activity  Wildfire  \n",
       "Year                                 \n",
       "1900                  1.0       NaN  \n",
       "1901                  NaN       NaN  \n",
       "1902                  5.0       NaN  \n",
       "1903                  1.0       NaN  \n",
       "1904                  NaN       NaN  \n",
       "...                   ...       ...  \n",
       "2014                  6.0       4.0  \n",
       "2015                  6.0      12.0  \n",
       "2016                  NaN      10.0  \n",
       "2017                  2.0      13.0  \n",
       "2018                  7.0      10.0  \n",
       "\n",
       "[119 rows x 11 columns]"
      ]
     },
     "execution_count": 13,
     "metadata": {},
     "output_type": "execute_result"
    }
   ],
   "source": [
    "n_disasters = pd.pivot_table(disasters,\n",
    "              index=\"Year\",\n",
    "              columns=\"Entity\",\n",
    "              values = \"Number of reported natural disasters (reported disasters)\")\n",
    "n_disasters"
   ]
  },
  {
   "cell_type": "markdown",
   "id": "1fb98d4b",
   "metadata": {},
   "source": [
    "Заполним NaN нулями, потому что нет сведений о них, будем считать, что не было. Переименуем столбцы для удобства"
   ]
  },
  {
   "cell_type": "code",
   "execution_count": 14,
   "id": "26d368c6",
   "metadata": {},
   "outputs": [
    {
     "name": "stdout",
     "output_type": "stream",
     "text": [
      "<class 'pandas.core.frame.DataFrame'>\n",
      "Int64Index: 119 entries, 1900 to 2018\n",
      "Data columns (total 11 columns):\n",
      " #   Column           Non-Null Count  Dtype\n",
      "---  ------           --------------  -----\n",
      " 0   all              119 non-null    Int16\n",
      " 1   drought          119 non-null    Int16\n",
      " 2   eartchquake      119 non-null    Int16\n",
      " 3   extreme_temp     119 non-null    Int16\n",
      " 4   extreme_weather  119 non-null    Int16\n",
      " 5   flood            119 non-null    Int16\n",
      " 6   impact           119 non-null    Int16\n",
      " 7   landslide        119 non-null    Int16\n",
      " 8   mass_move        119 non-null    Int16\n",
      " 9   volcans          119 non-null    Int16\n",
      " 10  wildfire         119 non-null    Int16\n",
      "dtypes: Int16(11)\n",
      "memory usage: 4.8 KB\n"
     ]
    }
   ],
   "source": [
    "n_disasters.fillna(0, inplace=True)\n",
    "n_disasters.rename(columns={\"All natural disasters\": \"all\",\n",
    "                           \"Drought\": \"drought\",\n",
    "                           \"Earthquake\": \"eartchquake\",\n",
    "                           \"Extreme temperature\": \"extreme_temp\",\n",
    "                           \"Extreme weather\": \"extreme_weather\",\n",
    "                           \"Flood\": \"flood\",\n",
    "                           \"Impact\": \"impact\",\n",
    "                           \"Landslide\": \"landslide\",\n",
    "                           \"Mass movement (dry)\": \"mass_move\",\n",
    "                           \"Volcanic activity\": \"volcans\",\n",
    "                           \"Wildfire\": \"wildfire\"}, inplace=True)\n",
    "n_disasters = n_disasters.astype(\"Int16\")\n",
    "n_disasters.info()"
   ]
  },
  {
   "cell_type": "code",
   "execution_count": 15,
   "id": "d38112a7",
   "metadata": {},
   "outputs": [
    {
     "name": "stdout",
     "output_type": "stream",
     "text": [
      "<class 'pandas.core.frame.DataFrame'>\n",
      "Int64Index: 116 entries, 1900 to 2015\n",
      "Data columns (total 4 columns):\n",
      " #   Column             Non-Null Count  Dtype  \n",
      "---  ------             --------------  -----  \n",
      " 0   land_average_temp  116 non-null    float64\n",
      " 1   land_max_temp      116 non-null    float64\n",
      " 2   land_min_temp      116 non-null    float64\n",
      " 3   land_and_ocean_av  116 non-null    float64\n",
      "dtypes: float64(4)\n",
      "memory usage: 4.5 KB\n"
     ]
    }
   ],
   "source": [
    "temp.info()"
   ]
  },
  {
   "cell_type": "code",
   "execution_count": 16,
   "id": "57f89617",
   "metadata": {},
   "outputs": [
    {
     "name": "stdout",
     "output_type": "stream",
     "text": [
      "<class 'pandas.core.frame.DataFrame'>\n",
      "Int64Index: 116 entries, 1900 to 2015\n",
      "Data columns (total 11 columns):\n",
      " #   Column           Non-Null Count  Dtype\n",
      "---  ------           --------------  -----\n",
      " 0   all              116 non-null    Int16\n",
      " 1   drought          116 non-null    Int16\n",
      " 2   eartchquake      116 non-null    Int16\n",
      " 3   extreme_temp     116 non-null    Int16\n",
      " 4   extreme_weather  116 non-null    Int16\n",
      " 5   flood            116 non-null    Int16\n",
      " 6   impact           116 non-null    Int16\n",
      " 7   landslide        116 non-null    Int16\n",
      " 8   mass_move        116 non-null    Int16\n",
      " 9   volcans          116 non-null    Int16\n",
      " 10  wildfire         116 non-null    Int16\n",
      "dtypes: Int16(11)\n",
      "memory usage: 4.6 KB\n"
     ]
    }
   ],
   "source": [
    "# данные по температуре до 2015, а по катаклизмам ло 2018. уравняем\n",
    "n_disasters = n_disasters[n_disasters.index < 2016]\n",
    "n_disasters.info()"
   ]
  },
  {
   "cell_type": "code",
   "execution_count": 17,
   "id": "3bbc5409",
   "metadata": {},
   "outputs": [
    {
     "data": {
      "text/html": [
       "<div>\n",
       "<style scoped>\n",
       "    .dataframe tbody tr th:only-of-type {\n",
       "        vertical-align: middle;\n",
       "    }\n",
       "\n",
       "    .dataframe tbody tr th {\n",
       "        vertical-align: top;\n",
       "    }\n",
       "\n",
       "    .dataframe thead th {\n",
       "        text-align: right;\n",
       "    }\n",
       "</style>\n",
       "<table border=\"1\" class=\"dataframe\">\n",
       "  <thead>\n",
       "    <tr style=\"text-align: right;\">\n",
       "      <th></th>\n",
       "      <th>land_average_temp</th>\n",
       "      <th>land_max_temp</th>\n",
       "      <th>land_min_temp</th>\n",
       "      <th>land_and_ocean_av</th>\n",
       "      <th>all</th>\n",
       "      <th>drought</th>\n",
       "      <th>eartchquake</th>\n",
       "      <th>extreme_temp</th>\n",
       "      <th>extreme_weather</th>\n",
       "      <th>flood</th>\n",
       "      <th>impact</th>\n",
       "      <th>landslide</th>\n",
       "      <th>mass_move</th>\n",
       "      <th>volcans</th>\n",
       "      <th>wildfire</th>\n",
       "    </tr>\n",
       "    <tr>\n",
       "      <th>Year</th>\n",
       "      <th></th>\n",
       "      <th></th>\n",
       "      <th></th>\n",
       "      <th></th>\n",
       "      <th></th>\n",
       "      <th></th>\n",
       "      <th></th>\n",
       "      <th></th>\n",
       "      <th></th>\n",
       "      <th></th>\n",
       "      <th></th>\n",
       "      <th></th>\n",
       "      <th></th>\n",
       "      <th></th>\n",
       "      <th></th>\n",
       "    </tr>\n",
       "  </thead>\n",
       "  <tbody>\n",
       "    <tr>\n",
       "      <th>1900</th>\n",
       "      <td>8.501583</td>\n",
       "      <td>14.389500</td>\n",
       "      <td>2.575667</td>\n",
       "      <td>15.143917</td>\n",
       "      <td>5</td>\n",
       "      <td>2</td>\n",
       "      <td>0</td>\n",
       "      <td>0</td>\n",
       "      <td>1</td>\n",
       "      <td>1</td>\n",
       "      <td>0</td>\n",
       "      <td>0</td>\n",
       "      <td>0</td>\n",
       "      <td>1</td>\n",
       "      <td>0</td>\n",
       "    </tr>\n",
       "    <tr>\n",
       "      <th>1901</th>\n",
       "      <td>8.541917</td>\n",
       "      <td>14.512167</td>\n",
       "      <td>2.490500</td>\n",
       "      <td>15.073333</td>\n",
       "      <td>2</td>\n",
       "      <td>0</td>\n",
       "      <td>2</td>\n",
       "      <td>0</td>\n",
       "      <td>0</td>\n",
       "      <td>0</td>\n",
       "      <td>0</td>\n",
       "      <td>0</td>\n",
       "      <td>0</td>\n",
       "      <td>0</td>\n",
       "      <td>0</td>\n",
       "    </tr>\n",
       "    <tr>\n",
       "      <th>1902</th>\n",
       "      <td>8.304417</td>\n",
       "      <td>14.364250</td>\n",
       "      <td>2.203750</td>\n",
       "      <td>14.958333</td>\n",
       "      <td>9</td>\n",
       "      <td>0</td>\n",
       "      <td>3</td>\n",
       "      <td>0</td>\n",
       "      <td>1</td>\n",
       "      <td>0</td>\n",
       "      <td>0</td>\n",
       "      <td>0</td>\n",
       "      <td>0</td>\n",
       "      <td>5</td>\n",
       "      <td>0</td>\n",
       "    </tr>\n",
       "    <tr>\n",
       "      <th>1903</th>\n",
       "      <td>8.220167</td>\n",
       "      <td>14.085750</td>\n",
       "      <td>2.283333</td>\n",
       "      <td>14.836583</td>\n",
       "      <td>8</td>\n",
       "      <td>1</td>\n",
       "      <td>1</td>\n",
       "      <td>0</td>\n",
       "      <td>2</td>\n",
       "      <td>2</td>\n",
       "      <td>0</td>\n",
       "      <td>0</td>\n",
       "      <td>1</td>\n",
       "      <td>1</td>\n",
       "      <td>0</td>\n",
       "    </tr>\n",
       "    <tr>\n",
       "      <th>1904</th>\n",
       "      <td>8.090917</td>\n",
       "      <td>14.063667</td>\n",
       "      <td>2.171083</td>\n",
       "      <td>14.810417</td>\n",
       "      <td>2</td>\n",
       "      <td>0</td>\n",
       "      <td>1</td>\n",
       "      <td>0</td>\n",
       "      <td>1</td>\n",
       "      <td>0</td>\n",
       "      <td>0</td>\n",
       "      <td>0</td>\n",
       "      <td>0</td>\n",
       "      <td>0</td>\n",
       "      <td>0</td>\n",
       "    </tr>\n",
       "    <tr>\n",
       "      <th>...</th>\n",
       "      <td>...</td>\n",
       "      <td>...</td>\n",
       "      <td>...</td>\n",
       "      <td>...</td>\n",
       "      <td>...</td>\n",
       "      <td>...</td>\n",
       "      <td>...</td>\n",
       "      <td>...</td>\n",
       "      <td>...</td>\n",
       "      <td>...</td>\n",
       "      <td>...</td>\n",
       "      <td>...</td>\n",
       "      <td>...</td>\n",
       "      <td>...</td>\n",
       "      <td>...</td>\n",
       "    </tr>\n",
       "    <tr>\n",
       "      <th>2011</th>\n",
       "      <td>9.516000</td>\n",
       "      <td>15.284833</td>\n",
       "      <td>3.827667</td>\n",
       "      <td>15.769500</td>\n",
       "      <td>334</td>\n",
       "      <td>17</td>\n",
       "      <td>30</td>\n",
       "      <td>16</td>\n",
       "      <td>84</td>\n",
       "      <td>156</td>\n",
       "      <td>0</td>\n",
       "      <td>17</td>\n",
       "      <td>0</td>\n",
       "      <td>6</td>\n",
       "      <td>8</td>\n",
       "    </tr>\n",
       "    <tr>\n",
       "      <th>2012</th>\n",
       "      <td>9.507333</td>\n",
       "      <td>15.332833</td>\n",
       "      <td>3.756167</td>\n",
       "      <td>15.802333</td>\n",
       "      <td>346</td>\n",
       "      <td>21</td>\n",
       "      <td>27</td>\n",
       "      <td>51</td>\n",
       "      <td>90</td>\n",
       "      <td>136</td>\n",
       "      <td>0</td>\n",
       "      <td>13</td>\n",
       "      <td>1</td>\n",
       "      <td>1</td>\n",
       "      <td>6</td>\n",
       "    </tr>\n",
       "    <tr>\n",
       "      <th>2013</th>\n",
       "      <td>9.606500</td>\n",
       "      <td>15.373833</td>\n",
       "      <td>3.911333</td>\n",
       "      <td>15.854417</td>\n",
       "      <td>332</td>\n",
       "      <td>9</td>\n",
       "      <td>29</td>\n",
       "      <td>14</td>\n",
       "      <td>105</td>\n",
       "      <td>149</td>\n",
       "      <td>1</td>\n",
       "      <td>11</td>\n",
       "      <td>1</td>\n",
       "      <td>3</td>\n",
       "      <td>10</td>\n",
       "    </tr>\n",
       "    <tr>\n",
       "      <th>2014</th>\n",
       "      <td>9.570667</td>\n",
       "      <td>15.313583</td>\n",
       "      <td>3.877750</td>\n",
       "      <td>15.913000</td>\n",
       "      <td>320</td>\n",
       "      <td>18</td>\n",
       "      <td>26</td>\n",
       "      <td>17</td>\n",
       "      <td>99</td>\n",
       "      <td>135</td>\n",
       "      <td>0</td>\n",
       "      <td>15</td>\n",
       "      <td>0</td>\n",
       "      <td>6</td>\n",
       "      <td>4</td>\n",
       "    </tr>\n",
       "    <tr>\n",
       "      <th>2015</th>\n",
       "      <td>9.831000</td>\n",
       "      <td>15.572667</td>\n",
       "      <td>4.148833</td>\n",
       "      <td>16.058583</td>\n",
       "      <td>380</td>\n",
       "      <td>28</td>\n",
       "      <td>23</td>\n",
       "      <td>12</td>\n",
       "      <td>118</td>\n",
       "      <td>160</td>\n",
       "      <td>0</td>\n",
       "      <td>20</td>\n",
       "      <td>1</td>\n",
       "      <td>6</td>\n",
       "      <td>12</td>\n",
       "    </tr>\n",
       "  </tbody>\n",
       "</table>\n",
       "<p>116 rows × 15 columns</p>\n",
       "</div>"
      ],
      "text/plain": [
       "      land_average_temp  land_max_temp  land_min_temp  land_and_ocean_av  all  \\\n",
       "Year                                                                            \n",
       "1900           8.501583      14.389500       2.575667          15.143917    5   \n",
       "1901           8.541917      14.512167       2.490500          15.073333    2   \n",
       "1902           8.304417      14.364250       2.203750          14.958333    9   \n",
       "1903           8.220167      14.085750       2.283333          14.836583    8   \n",
       "1904           8.090917      14.063667       2.171083          14.810417    2   \n",
       "...                 ...            ...            ...                ...  ...   \n",
       "2011           9.516000      15.284833       3.827667          15.769500  334   \n",
       "2012           9.507333      15.332833       3.756167          15.802333  346   \n",
       "2013           9.606500      15.373833       3.911333          15.854417  332   \n",
       "2014           9.570667      15.313583       3.877750          15.913000  320   \n",
       "2015           9.831000      15.572667       4.148833          16.058583  380   \n",
       "\n",
       "      drought  eartchquake  extreme_temp  extreme_weather  flood  impact  \\\n",
       "Year                                                                       \n",
       "1900        2            0             0                1      1       0   \n",
       "1901        0            2             0                0      0       0   \n",
       "1902        0            3             0                1      0       0   \n",
       "1903        1            1             0                2      2       0   \n",
       "1904        0            1             0                1      0       0   \n",
       "...       ...          ...           ...              ...    ...     ...   \n",
       "2011       17           30            16               84    156       0   \n",
       "2012       21           27            51               90    136       0   \n",
       "2013        9           29            14              105    149       1   \n",
       "2014       18           26            17               99    135       0   \n",
       "2015       28           23            12              118    160       0   \n",
       "\n",
       "      landslide  mass_move  volcans  wildfire  \n",
       "Year                                           \n",
       "1900          0          0        1         0  \n",
       "1901          0          0        0         0  \n",
       "1902          0          0        5         0  \n",
       "1903          0          1        1         0  \n",
       "1904          0          0        0         0  \n",
       "...         ...        ...      ...       ...  \n",
       "2011         17          0        6         8  \n",
       "2012         13          1        1         6  \n",
       "2013         11          1        3        10  \n",
       "2014         15          0        6         4  \n",
       "2015         20          1        6        12  \n",
       "\n",
       "[116 rows x 15 columns]"
      ]
     },
     "execution_count": 17,
     "metadata": {},
     "output_type": "execute_result"
    }
   ],
   "source": [
    "full_data = temp.join(n_disasters)\n",
    "full_data"
   ]
  },
  {
   "cell_type": "code",
   "execution_count": 18,
   "id": "2ca2f9fb",
   "metadata": {},
   "outputs": [
    {
     "name": "stdout",
     "output_type": "stream",
     "text": [
      "<class 'pandas.core.frame.DataFrame'>\n",
      "Int64Index: 116 entries, 1900 to 2015\n",
      "Data columns (total 15 columns):\n",
      " #   Column             Non-Null Count  Dtype  \n",
      "---  ------             --------------  -----  \n",
      " 0   land_average_temp  116 non-null    float64\n",
      " 1   land_max_temp      116 non-null    float64\n",
      " 2   land_min_temp      116 non-null    float64\n",
      " 3   land_and_ocean_av  116 non-null    float64\n",
      " 4   all                116 non-null    Int16  \n",
      " 5   drought            116 non-null    Int16  \n",
      " 6   eartchquake        116 non-null    Int16  \n",
      " 7   extreme_temp       116 non-null    Int16  \n",
      " 8   extreme_weather    116 non-null    Int16  \n",
      " 9   flood              116 non-null    Int16  \n",
      " 10  impact             116 non-null    Int16  \n",
      " 11  landslide          116 non-null    Int16  \n",
      " 12  mass_move          116 non-null    Int16  \n",
      " 13  volcans            116 non-null    Int16  \n",
      " 14  wildfire           116 non-null    Int16  \n",
      "dtypes: Int16(11), float64(4)\n",
      "memory usage: 12.3 KB\n"
     ]
    }
   ],
   "source": [
    "full_data.info()"
   ]
  },
  {
   "cell_type": "code",
   "execution_count": 19,
   "id": "af20339f",
   "metadata": {},
   "outputs": [
    {
     "data": {
      "image/png": "[encoded data removed]",
      "text/plain": [
       "<Figure size 1080x720 with 2 Axes>"
      ]
     },
     "metadata": {
      "needs_background": "light"
     },
     "output_type": "display_data"
    }
   ],
   "source": [
    "plt.figure(figsize = (15,10))\n",
    "\n",
    "sns.set(font_scale=1.4)\n",
    "\n",
    "corr_matrix = full_data.drop(columns=[\"land_average_temp\", \"land_max_temp\", \"land_min_temp\"]).corr()\n",
    "corr_matrix = np.round(corr_matrix, 2)\n",
    "corr_matrix[np.abs(corr_matrix) < 0.3] = 0\n",
    "\n",
    "sns.heatmap(corr_matrix, annot=True, linewidths=.5, cmap='coolwarm')\n",
    "\n",
    "plt.title('Correlation matrix')\n",
    "plt.show()"
   ]
  },
  {
   "cell_type": "markdown",
   "id": "6be9b664",
   "metadata": {},
   "source": [
    "очень много сильных положительных зависимостей. попробую посмотреть связь между всеми катастрофами и общей средней температурой"
   ]
  },
  {
   "cell_type": "code",
   "execution_count": 20,
   "id": "261a482b",
   "metadata": {},
   "outputs": [
    {
     "data": {
      "image/png": "[encoded data removed]",
      "text/plain": [
       "<Figure size 576x288 with 2 Axes>"
      ]
     },
     "metadata": {},
     "output_type": "display_data"
    }
   ],
   "source": [
    "def draw_corr_matrix(data, fields):\n",
    "    plt.figure(figsize = (8, 4))\n",
    "\n",
    "    sns.set(font_scale=1.4)\n",
    "\n",
    "    corr_matrix = data[fields].corr()\n",
    "    corr_matrix = np.round(corr_matrix, 2)\n",
    "    corr_matrix[np.abs(corr_matrix) < 0.3] = 0\n",
    "\n",
    "    sns.heatmap(corr_matrix, annot=True, linewidths=.5, cmap='coolwarm')\n",
    "\n",
    "    plt.title('Correlation matrix')\n",
    "    plt.show()\n",
    "\n",
    "draw_corr_matrix(full_data, [\"land_and_ocean_av\", \"all\"])"
   ]
  },
  {
   "cell_type": "markdown",
   "id": "5dff36d6",
   "metadata": {},
   "source": [
    "Присутствует очень сильная прямая зависимость. Можно попробовать применить линейную регрессию для прогнозов"
   ]
  },
  {
   "cell_type": "code",
   "execution_count": 21,
   "id": "4971abfb",
   "metadata": {},
   "outputs": [
    {
     "data": {
      "image/png": "[encoded data removed]",
      "text/plain": [
       "<Figure size 864x432 with 1 Axes>"
      ]
     },
     "metadata": {},
     "output_type": "display_data"
    }
   ],
   "source": [
    "plt.scatter(x=full_data[\"land_and_ocean_av\"], y=full_data[\"all\"])\n",
    "plt.show()"
   ]
  },
  {
   "cell_type": "code",
   "execution_count": 22,
   "id": "59f7a52a",
   "metadata": {},
   "outputs": [
    {
     "data": {
      "text/plain": [
       "<AxesSubplot:xlabel='Year'>"
      ]
     },
     "execution_count": 22,
     "metadata": {},
     "output_type": "execute_result"
    },
    {
     "data": {
      "image/png": "[encoded data removed]",
      "text/plain": [
       "<Figure size 864x432 with 1 Axes>"
      ]
     },
     "metadata": {},
     "output_type": "display_data"
    }
   ],
   "source": [
    "full_data[\"all\"].plot()"
   ]
  },
  {
   "cell_type": "markdown",
   "id": "08cbfd69",
   "metadata": {},
   "source": [
    "Предположу, что в начале века сведений было очень мало о катастрофах в мире, поэтому эти данные могут исказить общую картину\n",
    "Возьмем данные, начиная с 1940 года"
   ]
  },
  {
   "cell_type": "code",
   "execution_count": 23,
   "id": "9b6562b9",
   "metadata": {},
   "outputs": [],
   "source": [
    "full_data = full_data[full_data.index >= 1940]"
   ]
  },
  {
   "cell_type": "code",
   "execution_count": 24,
   "id": "ca74aab0",
   "metadata": {},
   "outputs": [
    {
     "data": {
      "image/png": "[encoded data removed]",
      "text/plain": [
       "<Figure size 576x288 with 2 Axes>"
      ]
     },
     "metadata": {},
     "output_type": "display_data"
    }
   ],
   "source": [
    "draw_corr_matrix(full_data, [\"land_and_ocean_av\", \"all\"])"
   ]
  },
  {
   "cell_type": "code",
   "execution_count": 25,
   "id": "0c349d2d",
   "metadata": {},
   "outputs": [],
   "source": [
    "#зависимость стала сильнее, построим регрессию\n",
    "\n",
    "# для парной регрессии\n",
    "def pair_regression(x, y):\n",
    "    b1 = ((x*y).mean() - y.mean()*x.mean()) / ((x*x).mean() - x.mean()**2)\n",
    "    b0 = y.mean() - b1*x.mean()\n",
    "    return np.array([b0, b1])\n",
    "\n",
    "# метод наименьших квадратов\n",
    "def min_squares(x, y):\n",
    "    x1 = x[:, np.newaxis]\n",
    "    x1 = np.insert(x1, 0, 1, axis=1)\n",
    "    b = np.linalg.inv(x1.T.dot(x1)).dot(x1.T)@y\n",
    "    return b"
   ]
  },
  {
   "cell_type": "code",
   "execution_count": 26,
   "id": "1d04f889",
   "metadata": {},
   "outputs": [
    {
     "data": {
      "text/plain": [
       "(array([15.37208333, 15.38466667, 15.32533333, 15.345     , 15.44908333,\n",
       "        15.33075   , 15.26275   , 15.31016667, 15.26116667, 15.22275   ,\n",
       "        15.1395    , 15.31116667, 15.36308333, 15.42108333, 15.23058333,\n",
       "        15.17433333, 15.106     , 15.37408333, 15.38208333, 15.3405    ,\n",
       "        15.29191667, 15.37991667, 15.32558333, 15.37666667, 15.11708333,\n",
       "        15.19575   , 15.26466667, 15.29416667, 15.26391667, 15.3905    ,\n",
       "        15.33266667, 15.2       , 15.29291667, 15.40475   , 15.16808333,\n",
       "        15.23866667, 15.13108333, 15.40825   , 15.30091667, 15.41416667,\n",
       "        15.49183333, 15.51616667, 15.34191667, 15.52025   , 15.34416667,\n",
       "        15.34066667, 15.384     , 15.5245    , 15.55575   , 15.44158333,\n",
       "        15.62933333, 15.598     , 15.453     , 15.46641667, 15.535     ,\n",
       "        15.63783333, 15.52466667, 15.71383333, 15.826     , 15.60033333,\n",
       "        15.61066667, 15.7675    , 15.82916667, 15.82658333, 15.75725   ,\n",
       "        15.87925   , 15.8135    , 15.82733333, 15.72125   , 15.82716667,\n",
       "        15.8955    , 15.7695    , 15.80233333, 15.85441667, 15.913     ,\n",
       "        16.05858333]),\n",
       " array([ 17.,   5.,   9.,  12.,  12.,  12.,  15.,  12.,  23.,  20.,  23.,\n",
       "         27.,  24.,  34.,  33.,  30.,  36.,  29.,  23.,  33.,  40.,  28.,\n",
       "         28.,  41.,  60.,  61.,  80.,  70.,  77.,  62.,  77.,  61.,  63.,\n",
       "         60.,  68.,  63.,  91., 121., 115., 120., 133., 138., 153., 205.,\n",
       "        146., 165., 150., 191., 200., 172., 278., 228., 204., 260., 246.,\n",
       "        248., 227., 261., 288., 337., 411., 376., 421., 360., 350., 432.,\n",
       "        401., 414., 352., 344., 393., 334., 346., 332., 320., 380.]))"
      ]
     },
     "execution_count": 26,
     "metadata": {},
     "output_type": "execute_result"
    }
   ],
   "source": [
    "x = full_data[\"land_and_ocean_av\"].to_numpy()\n",
    "y = full_data[\"all\"].to_numpy().astype(\"float\")\n",
    "x, y"
   ]
  },
  {
   "cell_type": "code",
   "execution_count": 27,
   "id": "2700ba22",
   "metadata": {},
   "outputs": [
    {
     "data": {
      "text/plain": [
       "array([-8090.77899804,   533.315434  ])"
      ]
     },
     "execution_count": 27,
     "metadata": {},
     "output_type": "execute_result"
    }
   ],
   "source": [
    "b = pair_regression(x, y)\n",
    "b"
   ]
  },
  {
   "cell_type": "code",
   "execution_count": 28,
   "id": "9bcd604f",
   "metadata": {},
   "outputs": [
    {
     "data": {
      "image/png": "[encoded data removed]",
      "text/plain": [
       "<Figure size 864x432 with 1 Axes>"
      ]
     },
     "metadata": {},
     "output_type": "display_data"
    }
   ],
   "source": [
    "def regression(x, b):\n",
    "    x1 = x[:, np.newaxis]\n",
    "    x1 = np.insert(x1, 0, 1, axis=1)\n",
    "    return x1 @ b\n",
    "    \n",
    "def draw_regression(x, y, b):\n",
    "    z = regression(x, b)\n",
    "    plt.figure(figsize=(12, 6))\n",
    "    plt.scatter(x, y)\n",
    "    plt.plot(x, z, color='red')\n",
    "    plt.show()\n",
    "\n",
    "draw_regression(x, y, b)"
   ]
  },
  {
   "cell_type": "code",
   "execution_count": 29,
   "id": "974700f9",
   "metadata": {},
   "outputs": [
    {
     "data": {
      "image/png": "[encoded data removed]",
      "text/plain": [
       "<Figure size 864x432 with 1 Axes>"
      ]
     },
     "metadata": {},
     "output_type": "display_data"
    }
   ],
   "source": [
    "b1 = min_squares(x, y)\n",
    "draw_regression(x, y, b1)"
   ]
  },
  {
   "cell_type": "code",
   "execution_count": 30,
   "id": "070841e0",
   "metadata": {},
   "outputs": [
    {
     "data": {
      "text/plain": [
       "(array([-8090.77899804,   533.315434  ]),\n",
       " array([-8090.77899804,   533.315434  ]))"
      ]
     },
     "execution_count": 30,
     "metadata": {},
     "output_type": "execute_result"
    }
   ],
   "source": [
    "b, b1"
   ]
  },
  {
   "cell_type": "markdown",
   "id": "efa9949e",
   "metadata": {},
   "source": [
    "Проведем оценку регрессии с использованием различных критериев:\n",
    "1. Коэффициент детерминации\n",
    "2. Ошибка аппроксимации\n",
    "3. Критерий Фишера\n",
    "4. Значимость коэффициентов b0 и b1"
   ]
  },
  {
   "cell_type": "code",
   "execution_count": 31,
   "id": "82e36a8a",
   "metadata": {},
   "outputs": [
    {
     "data": {
      "text/plain": [
       "0.7991249904142363"
      ]
     },
     "execution_count": 31,
     "metadata": {},
     "output_type": "execute_result"
    }
   ],
   "source": [
    "z = regression(x, b)\n",
    "r2 = z.var() / y.var()\n",
    "r2"
   ]
  },
  {
   "cell_type": "code",
   "execution_count": 32,
   "id": "bf13d77b",
   "metadata": {},
   "outputs": [
    {
     "data": {
      "text/plain": [
       "1.476043960559993"
      ]
     },
     "execution_count": 32,
     "metadata": {},
     "output_type": "execute_result"
    }
   ],
   "source": [
    "A = np.abs((y - z)) / y\n",
    "A.mean()\n",
    "# ошибка получилась довольно большой из за разброса данных "
   ]
  },
  {
   "cell_type": "code",
   "execution_count": 33,
   "id": "ab4b403f",
   "metadata": {},
   "outputs": [
    {
     "data": {
      "text/plain": [
       "(294.3882836028226, 3.970229580187842, True)"
      ]
     },
     "execution_count": 33,
     "metadata": {},
     "output_type": "execute_result"
    }
   ],
   "source": [
    "# вычислим критерий Фишера с уровнем значимости 0.05\n",
    "from scipy import stats\n",
    "\n",
    "n = len(y)\n",
    "k = 1\n",
    "k1 = k\n",
    "k2 = n - k - 1\n",
    "T = (r2 / (1 - r2)) * (k2 / k1)\n",
    "alpha = 0.05\n",
    "F_crit = stats.f.ppf(1-alpha, k1, k2)\n",
    "T, F_crit, T > F_crit"
   ]
  },
  {
   "cell_type": "markdown",
   "id": "43caef28",
   "metadata": {},
   "source": [
    "Как видим, что наш критерий значительно превышает критерий Фишера, значит наша регрессия статистически значима и можно ее применять"
   ]
  },
  {
   "cell_type": "code",
   "execution_count": 34,
   "id": "27c49578",
   "metadata": {},
   "outputs": [],
   "source": [
    "def standard_error_slope(x, y, z):\n",
    "    n = x.shape[0]\n",
    "    \n",
    "    upper = ((y - z) ** 2).sum() / (n - 2)\n",
    "    lower = ((x - x.mean()) ** 2).sum()\n",
    "    \n",
    "    return np.sqrt(upper / lower)\n",
    "\n",
    "def standard_error_intercept(x, y, z):\n",
    "    return standard_error_slope(x, y, z) * np.sqrt((x ** 2).mean())"
   ]
  },
  {
   "cell_type": "code",
   "execution_count": 35,
   "id": "2e40c951",
   "metadata": {},
   "outputs": [
    {
     "data": {
      "text/plain": [
       "((-1.99254349484682, 1.99254349484682), 17.157747043351858)"
      ]
     },
     "execution_count": 35,
     "metadata": {},
     "output_type": "execute_result"
    }
   ],
   "source": [
    "# b1\n",
    "err_slope = standard_error_slope(x, y, z)\n",
    "t = stats.t.ppf(1-alpha/2, n-2)\n",
    "T = b[1]/err_slope\n",
    "(-t, t), T"
   ]
  },
  {
   "cell_type": "code",
   "execution_count": 36,
   "id": "a24d9826",
   "metadata": {},
   "outputs": [
    {
     "data": {
      "text/plain": [
       "((-1.99254349484682, 1.99254349484682), -16.82717276057452)"
      ]
     },
     "execution_count": 36,
     "metadata": {},
     "output_type": "execute_result"
    }
   ],
   "source": [
    "# b0\n",
    "err_intercept = standard_error_intercept(x, y, z)\n",
    "T = b[0]/err_intercept\n",
    "(-t, t), T"
   ]
  },
  {
   "cell_type": "markdown",
   "id": "1383ab38",
   "metadata": {},
   "source": [
    "#### Оба параметра находятся в критических областях, что делает их статистически значимыми"
   ]
  },
  {
   "cell_type": "markdown",
   "id": "bc05c0c7",
   "metadata": {},
   "source": [
    "Сравним наши параметры регрессии с библиотечной регрессией от sklearn"
   ]
  },
  {
   "cell_type": "code",
   "execution_count": 37,
   "id": "9103e59a",
   "metadata": {},
   "outputs": [
    {
     "data": {
      "text/plain": [
       "(-8090.778998038496, 533.3154340023045, -8090.7789980355765, 533.3154340021157)"
      ]
     },
     "execution_count": 37,
     "metadata": {},
     "output_type": "execute_result"
    }
   ],
   "source": [
    "from sklearn.linear_model import LinearRegression\n",
    "lr = LinearRegression(fit_intercept=True)\n",
    "lr.fit(x[:,np.newaxis], y)\n",
    "lr.intercept_, lr.coef_[0], b[0], b[1]"
   ]
  },
  {
   "cell_type": "markdown",
   "id": "5b63fd2f",
   "metadata": {},
   "source": [
    "Практически не отличаются!"
   ]
  },
  {
   "cell_type": "markdown",
   "id": "d12c6208",
   "metadata": {},
   "source": [
    "### Вывод:\n",
    "#### Видим присутсвие сильной положительной линейной зависимости количества природных катаклизмов от средней годовой температуры. Возможно она более сложная, но на тех данных, что у нас есть прослеживатся линейная. И ее вполне будет достаточно, чтобы апроксимировать прогнозы на небольшой срок, скажем 10-20-30 лет"
   ]
  },
  {
   "cell_type": "code",
   "execution_count": null,
   "id": "463db17a",
   "metadata": {},
   "outputs": [],
   "source": []
  }
 ],
 "metadata": {
  "kernelspec": {
   "display_name": "Python 3 (ipykernel)",
   "language": "python",
   "name": "python3"
  },
  "language_info": {
   "codemirror_mode": {
    "name": "ipython",
    "version": 3
   },
   "file_extension": ".py",
   "mimetype": "text/x-python",
   "name": "python",
   "nbconvert_exporter": "python",
   "pygments_lexer": "ipython3",
   "version": "3.9.7"
  }
 },
 "nbformat": 4,
 "nbformat_minor": 5
}
