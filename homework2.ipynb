{
 "cells": [
  {
   "cell_type": "markdown",
   "id": "c105d30c",
   "metadata": {},
   "source": [
    "### Урок 2. Дискретные случайные величины. Закон распределения вероятностей. Биномиальный закон распределения. Распределение Пуассона\n"
   ]
  },
  {
   "cell_type": "code",
   "execution_count": 1,
   "id": "b9913b46",
   "metadata": {},
   "outputs": [],
   "source": [
    "from math import factorial as f\n",
    "import numpy as np\n",
    "\n",
    "## функция для сочетаний из n по k для удобства\n",
    "def c(k, n):\n",
    "    return f(n)/(f(k)*(f(n-k)))\n",
    "\n",
    "\n",
    "## формула Бернулли\n",
    "def bernulli(k, n, p):\n",
    "    return c(k, n)*(p**k)*((1-p)**(n-k))\n",
    "\n",
    "## распределение Пуассона\n",
    "def puasson(k, n, p):\n",
    "    lambda_ = n * p\n",
    "    return ((lambda_**k)/f(k)) * np.exp(-lambda_)"
   ]
  },
  {
   "cell_type": "markdown",
   "id": "93855b1c",
   "metadata": {},
   "source": [
    "#### 1. Вероятность того, что стрелок попадет в мишень, выстрелив один раз, равна 0.8. Стрелок выстрелил 100 раз. Найдите вероятность того, что стрелок попадет в цель ровно 85 раз."
   ]
  },
  {
   "cell_type": "code",
   "execution_count": 2,
   "id": "17ff5fc2",
   "metadata": {},
   "outputs": [
    {
     "data": {
      "text/plain": [
       "0.048061793700746355"
      ]
     },
     "execution_count": 2,
     "metadata": {},
     "output_type": "execute_result"
    }
   ],
   "source": [
    "bernulli(85, 100, 0.8)"
   ]
  },
  {
   "cell_type": "markdown",
   "id": "685eb88d",
   "metadata": {},
   "source": [
    "#### 2. Вероятность того, что лампочка перегорит в течение первого дня эксплуатации, равна 0.0004. В жилом комплексе после ремонта в один день включили 5000 новых лампочек. Какова вероятность, что ни одна из них не перегорит в первый день? Какова вероятность, что перегорят ровно две?"
   ]
  },
  {
   "cell_type": "code",
   "execution_count": 3,
   "id": "cc261c6d",
   "metadata": {},
   "outputs": [
    {
     "name": "stdout",
     "output_type": "stream",
     "text": [
      "0.1353352832366127\n",
      "0.2706705664732254\n"
     ]
    }
   ],
   "source": [
    "print(puasson(0, 5000, 0.0004))\n",
    "print(puasson(2, 5000, 0.0004))"
   ]
  },
  {
   "cell_type": "markdown",
   "id": "c3ce7c75",
   "metadata": {},
   "source": [
    "#### 3. Монету подбросили 144 раза. Какова вероятность, что орел выпадет ровно 70 раз?"
   ]
  },
  {
   "cell_type": "code",
   "execution_count": 4,
   "id": "384616f1",
   "metadata": {},
   "outputs": [
    {
     "data": {
      "text/plain": [
       "0.06281178035144776"
      ]
     },
     "execution_count": 4,
     "metadata": {},
     "output_type": "execute_result"
    }
   ],
   "source": [
    "bernulli(70, 144, 0.5)"
   ]
  },
  {
   "cell_type": "markdown",
   "id": "e9b4ad01",
   "metadata": {},
   "source": [
    "#### 4. В первом ящике находится 10 мячей, из которых 7 - белые. Во втором ящике - 11 мячей, из которых 9 белых. Из каждого ящика вытаскивают случайным образом по два мяча. Какова вероятность того, что все мячи белые? Какова вероятность того, что ровно два мяча белые? Какова вероятность того, что хотя бы один мяч белый?"
   ]
  },
  {
   "cell_type": "code",
   "execution_count": 5,
   "id": "1c03f005",
   "metadata": {},
   "outputs": [
    {
     "data": {
      "text/plain": [
       "0.3054545454545455"
      ]
     },
     "execution_count": 5,
     "metadata": {},
     "output_type": "execute_result"
    }
   ],
   "source": [
    "# все мячи белые\n",
    "(c(2, 7)/c(2, 10)) * (c(2, 9)/c(2, 11))"
   ]
  },
  {
   "cell_type": "code",
   "execution_count": 6,
   "id": "ee1d41b4",
   "metadata": {},
   "outputs": [
    {
     "data": {
      "text/plain": [
       "0.20484848484848486"
      ]
     },
     "execution_count": 6,
     "metadata": {},
     "output_type": "execute_result"
    }
   ],
   "source": [
    "# ровно два белые\n",
    "(c(2, 7)/c(2, 10))*(c(2, 2)/c(2, 11)) + \\\n",
    "    ((c(1, 7)*c(1, 3))/c(2, 10))*((c(1, 9)*c(1, 2))/c(2, 11)) + (c(2, 3)/c(2, 10))*(c(2, 9)/c(2, 11)) "
   ]
  },
  {
   "cell_type": "code",
   "execution_count": 7,
   "id": "83ccefc0",
   "metadata": {},
   "outputs": [
    {
     "data": {
      "text/plain": [
       "0.9987878787878788"
      ]
     },
     "execution_count": 7,
     "metadata": {},
     "output_type": "execute_result"
    }
   ],
   "source": [
    "# хотя бы один белый\n",
    "1 - (c(2, 3)/c(2, 10))*(c(2, 2)/c(2, 11))"
   ]
  }
 ],
 "metadata": {
  "kernelspec": {
   "display_name": "Python 3 (ipykernel)",
   "language": "python",
   "name": "python3"
  },
  "language_info": {
   "codemirror_mode": {
    "name": "ipython",
    "version": 3
   },
   "file_extension": ".py",
   "mimetype": "text/x-python",
   "name": "python",
   "nbconvert_exporter": "python",
   "pygments_lexer": "ipython3",
   "version": "3.9.7"
  }
 },
 "nbformat": 4,
 "nbformat_minor": 5
}
