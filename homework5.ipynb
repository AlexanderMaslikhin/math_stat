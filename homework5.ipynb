{
 "cells": [
  {
   "cell_type": "markdown",
   "id": "05068994",
   "metadata": {},
   "source": [
    "##### 1. Известно, что генеральная совокупность распределена нормально со средним квадратическим отклонением, равным 16. Найти доверительный интервал для оценки математического ожидания a с надежностью 0.95, если выборочная средняя M = 80, а объем выборки n = 256."
   ]
  },
  {
   "cell_type": "code",
   "execution_count": 1,
   "id": "e351ba54",
   "metadata": {},
   "outputs": [
    {
     "data": {
      "text/plain": [
       "(78.0, 82.0)"
      ]
     },
     "execution_count": 1,
     "metadata": {},
     "output_type": "execute_result"
    }
   ],
   "source": [
    "import numpy as np\n",
    "\n",
    "gen_std = 16 # надеюсь в задании не опечатка и это точно среднеквадратичное отклонение, а не дисперсия\n",
    "M = 80\n",
    "n = 256\n",
    "sigma = gen_std/np.sqrt(n)\n",
    "# p = 0.95 значит берем 2 сигмы\n",
    "trust_interval = (M - 2*sigma, M + 2*sigma)\n",
    "trust_interval"
   ]
  },
  {
   "cell_type": "markdown",
   "id": "55120cf5",
   "metadata": {},
   "source": [
    "##### 2. В результате 10 независимых измерений некоторой величины X, выполненных с одинаковой точностью, получены опытные данные: 6.9, 6.1, 6.2, 6.8, 7.5, 6.3, 6.4, 6.9, 6.7, 6.1. Предполагая, что результаты измерений подчинены нормальному закону распределения вероятностей, оценить истинное значение величины X при помощи доверительного интервала, покрывающего это значение с доверительной вероятностью 0,95."
   ]
  },
  {
   "cell_type": "code",
   "execution_count": 3,
   "id": "c6b600e9",
   "metadata": {},
   "outputs": [
    {
     "data": {
      "text/plain": [
       "(6.267515851415855, 6.912484148584147)"
      ]
     },
     "execution_count": 3,
     "metadata": {},
     "output_type": "execute_result"
    }
   ],
   "source": [
    "# среднеквадратичное отклонение не известно, воспользуемся t-распределением\n",
    "\n",
    "X = np.array([6.9, 6.1, 6.2, 6.8, 7.5, 6.3, 6.4, 6.9, 6.7, 6.1])\n",
    "\n",
    "x_mean = X.mean()\n",
    "x_std = X.std(ddof=1)\n",
    "n = len(X)\n",
    "#находим нужный квантиль в таблице t-распределения (97.5%, n=9)\n",
    "t = 2.26215716274\n",
    "trust_interval = (x_mean - t*x_std/np.sqrt(n), x_mean + t*x_std/np.sqrt(n))\n",
    "trust_interval"
   ]
  },
  {
   "cell_type": "markdown",
   "id": "2386172b",
   "metadata": {},
   "source": [
    "##### 3. Утверждается, что шарики для подшипников, изготовленные автоматическим станком, имеют средний диаметр 17 мм. Используя односторонний критерий с α=0,05, проверить эту гипотезу, если в выборке из n=100 шариков средний диаметр оказался равным 17.5 мм, а дисперсия известна и равна 4 мм."
   ]
  },
  {
   "cell_type": "code",
   "execution_count": 4,
   "id": "019a7330",
   "metadata": {},
   "outputs": [
    {
     "name": "stdout",
     "output_type": "stream",
     "text": [
      "Критическая область = (17.4, inf)\n"
     ]
    },
    {
     "data": {
      "text/plain": [
       "False"
      ]
     },
     "execution_count": 4,
     "metadata": {},
     "output_type": "execute_result"
    }
   ],
   "source": [
    "# Чтобы проверить эту гипотезу, нужно найти критическую область и выяснить, не попадает ли туда предположение, что M = 17\n",
    "# т.к. 1-a = 95 то используем правило двух сигм\n",
    "n = 100\n",
    "x_mean = 17.5\n",
    "sigma = np.sqrt(4/n)\n",
    "# по условию критерий односторонний\n",
    "crit_area = (17 + 2*sigma, np.inf)\n",
    "print(f'Критическая область = {crit_area}')\n",
    "17 > crit_area[0] ## проверка"
   ]
  },
  {
   "cell_type": "markdown",
   "id": "dba818e0",
   "metadata": {},
   "source": [
    "число 17 не попало в критическую область, гипотезу принимаем"
   ]
  },
  {
   "cell_type": "markdown",
   "id": "e1fc69f8",
   "metadata": {},
   "source": [
    "##### 4. Продавец утверждает, что средний вес пачки печенья составляет 200 г. Из партии извлечена выборка из 10 пачек. Вес каждой пачки составляет: 202, 203, 199, 197, 195, 201, 200, 204, 194, 190. Известно, что их веса распределены нормально. Верно ли утверждение продавца, если учитывать, что доверительная вероятность равна 99%?"
   ]
  },
  {
   "cell_type": "code",
   "execution_count": 5,
   "id": "b2808af3",
   "metadata": {},
   "outputs": [
    {
     "data": {
      "text/plain": [
       "(193.923228400357, 203.076771599643)"
      ]
     },
     "execution_count": 5,
     "metadata": {},
     "output_type": "execute_result"
    }
   ],
   "source": [
    "# среднеквадратичное отклонение не известно, воспользуемся t-распределением\n",
    "X = np.array([202, 203, 199, 197, 195, 201, 200, 204, 194, 190])\n",
    "\n",
    "x_mean = X.mean()\n",
    "sigma = X.std(ddof=1)\n",
    "n = len(X)\n",
    "\n",
    "# коэффициент Стьюента по таблице (99.5%, 9)\n",
    "t = 3.24983554402\n",
    "trust_interval = (x_mean - t * sigma/np.sqrt(n), x_mean + t * sigma/np.sqrt(n))\n",
    "trust_interval"
   ]
  },
  {
   "cell_type": "markdown",
   "id": "6b05ae19",
   "metadata": {},
   "source": [
    "200г попадает в интервал. Продавец не врёт с доверительной вероятностью 99% )"
   ]
  }
 ],
 "metadata": {
  "kernelspec": {
   "display_name": "Python 3 (ipykernel)",
   "language": "python",
   "name": "python3"
  },
  "language_info": {
   "codemirror_mode": {
    "name": "ipython",
    "version": 3
   },
   "file_extension": ".py",
   "mimetype": "text/x-python",
   "name": "python",
   "nbconvert_exporter": "python",
   "pygments_lexer": "ipython3",
   "version": "3.9.7"
  }
 },
 "nbformat": 4,
 "nbformat_minor": 5
}
