{
 "cells": [
  {
   "cell_type": "markdown",
   "id": "d01b8bc9",
   "metadata": {},
   "source": [
    "## 4. Непрерывные случайные величины. Функция распределения и плотность распределения вероятностей. Равномерное и нормальное распределение. Центральная предельная теорема"
   ]
  },
  {
   "cell_type": "code",
   "execution_count": 33,
   "id": "e336a5ba",
   "metadata": {},
   "outputs": [],
   "source": [
    "import matplotlib.pyplot as plt\n",
    "import numpy as np\n",
    "\n",
    "%matplotlib inline\n",
    "\n",
    "def uniform_M(a, b):\n",
    "    return (a+b)/2\n",
    "\n",
    "def uniform_D(a, b):\n",
    "    return ((b-a)**2)/12"
   ]
  },
  {
   "cell_type": "markdown",
   "id": "d12b31d1",
   "metadata": {},
   "source": [
    "### 1. Случайная непрерывная величина A имеет равномерное распределение на промежутке (200, 800]. Найдите ее среднее значение и дисперсию."
   ]
  },
  {
   "cell_type": "code",
   "execution_count": 26,
   "id": "ca3648b6",
   "metadata": {},
   "outputs": [
    {
     "name": "stdout",
     "output_type": "stream",
     "text": [
      "Среднее = 500.0\n",
      "Дисперсия = 30000.0\n"
     ]
    }
   ],
   "source": [
    "M = uniform_M(200, 800)\n",
    "D = uniform_D(200, 800)\n",
    "print(f'Среднее = {M}\\nДисперсия = {D}')"
   ]
  },
  {
   "cell_type": "markdown",
   "id": "26d4433a",
   "metadata": {},
   "source": [
    "### 2.О случайной непрерывной равномерно распределенной величине B известно, что ее дисперсия равна 0.2. Можно ли найти правую границу величины B и ее среднее значение зная, что левая граница равна 0.5? Если да, найдите ее."
   ]
  },
  {
   "cell_type": "markdown",
   "id": "d310a2e3",
   "metadata": {},
   "source": [
    "Подставим значения дисперсии и правой границы в формулу:\n",
    "$$D(X) = \\frac{(b - a)^2}{12}$$\n",
    "\n",
    "Получим:\n",
    "$$0.2 = \\frac{(b - 0.5)^2}{12},$$\n",
    "\n",
    "$$(b - 0.5)^2 = 12 \\cdot 0.2 = 2.4$$\n",
    "\n",
    "$$(b - 0.5) = \\pm\\sqrt{2.4}$$\n",
    "\n",
    "Берем только положителный корень, так как считаем что правая граница всегда больше левой"
   ]
  },
  {
   "cell_type": "code",
   "execution_count": 27,
   "id": "617ce4ff",
   "metadata": {},
   "outputs": [
    {
     "name": "stdout",
     "output_type": "stream",
     "text": [
      "Правая граница = 2.049193338482967\n",
      "Среднее = 1.2745966692414834\n"
     ]
    }
   ],
   "source": [
    "b = np.sqrt(2.4) + 0.5\n",
    "M = uniform_M(0.5, b)\n",
    "print(f'Правая граница = {b}\\nСреднее = {M}')"
   ]
  },
  {
   "cell_type": "markdown",
   "id": "906b9c94",
   "metadata": {},
   "source": [
    "### 3. Непрерывная случайная величина X распределена нормально и задана плотностью распределения\n",
    "### f(x) = (1 / (4 * sqrt(2*pi))) * (exp(-(x+2)**2) / 32).\n",
    "### Найдите:\n",
    "### а). M(X)\n",
    "### б). D(X)\n",
    "### в). std(X) (среднее квадратичное отклонение)"
   ]
  },
  {
   "cell_type": "markdown",
   "id": "4f4347bf",
   "metadata": {},
   "source": [
    "Следуя формуле плотности нормального распределения:\n",
    "$$f(x) = \\frac{1}{\\sigma \\sqrt{2 \\pi}} e ^ {- \\frac{(x - a)^2}{2 \\sigma^2}},$$\n",
    "\n",
    "получим что среднеквадратичное отклонение $\\sigma = 4$, \n",
    "дисперсия $D(X) = \\sigma^2 = 16$, \n",
    "Среднее (мат. ожидание) $M(X) = -2$."
   ]
  },
  {
   "cell_type": "markdown",
   "id": "7b5cacf1",
   "metadata": {},
   "source": [
    "### 4.\n",
    "Рост взрослого населения города X имеет нормальное распределение.\n",
    "\n",
    "Причем, средний рост равен 174 см, а среднее квадратичное отклонение равно 8 см.\n",
    "\n",
    "Какова вероятность того, что случайным образом выбранный взрослый человек имеет рост:\n",
    "\n",
    "а). больше 182 см\n",
    "\n",
    "б). больше 190 см\n",
    "\n",
    "в). от 166 см до 190 см\n",
    "\n",
    "г). от 166 см до 182 см\n",
    "\n",
    "д). от 158 см до 190 см\n",
    "\n",
    "е). не выше 150 см или не ниже 190 см\n",
    "\n",
    "ё). не выше 150 см или не ниже 198 см\n",
    "\n",
    "ж). ниже 166 см."
   ]
  },
  {
   "cell_type": "code",
   "execution_count": 34,
   "id": "d834a85b",
   "metadata": {},
   "outputs": [],
   "source": [
    "from scipy.stats import norm\n",
    "mean, std = 174, 8\n",
    "\n",
    "s = norm(loc=mean, scale=std)\n",
    "f = s.pdf ## функция плотности распределения\n",
    "F = s.cdf ## функция распределения"
   ]
  },
  {
   "cell_type": "code",
   "execution_count": 35,
   "id": "46fef3ee",
   "metadata": {},
   "outputs": [
    {
     "data": {
      "image/png": "[encoded data removed]",
      "text/plain": [
       "<Figure size 432x288 with 1 Axes>"
      ]
     },
     "metadata": {
      "needs_background": "light"
     },
     "output_type": "display_data"
    }
   ],
   "source": [
    "## проверю, что это действительно функция нормального распределения\n",
    "a = np.linspace(mean-4*std, mean+4*std, num=1000)\n",
    "p = np.array([F(x) for x in a])\n",
    "plt.plot(a, p)\n",
    "plt.show()"
   ]
  },
  {
   "cell_type": "code",
   "execution_count": 36,
   "id": "be95584c",
   "metadata": {},
   "outputs": [
    {
     "data": {
      "image/png": "[encoded data removed]",
      "text/plain": [
       "<Figure size 432x288 with 1 Axes>"
      ]
     },
     "metadata": {
      "needs_background": "light"
     },
     "output_type": "display_data"
    }
   ],
   "source": [
    "density = np.array([f(x) for x in a])\n",
    "plt.plot(a, density)\n",
    "y1 = np.array([-0.001, 0.05])\n",
    "x1 = 166\n",
    "x2 = 190\n",
    "plt.plot([x1, x1], y1, color='red', linestyle='dotted')\n",
    "plt.plot([x2, x2], y1, color='green', linestyle='dotted')\n",
    "plt.show()"
   ]
  },
  {
   "cell_type": "markdown",
   "id": "a02b5d9f",
   "metadata": {},
   "source": [
    "Я решил проверить формулы расчета, о которых говорили на уроке. Интуитивно они были понятны, сомнения вызвали лишь формула расчета вероятности для попадания величины в интервал. Поэтому пришлось вспоминать математику :)\n",
    "\n",
    "Вероятность попадания величины в интервал будет равна площади под кривой плотности, ограниченной вертикальными линиями, проходящими через значения границ интервала. Эта площадь вычисляется через интеграл:\n",
    "$$P(x_1<x<x_2) = \\int\\limits_{x_1}^{x_2}f(x)dx$$\n",
    "Так как $$f(x) = F'(x),$$ то $$P(x_1<x<x_2) = F(x_2) - F(x_1)$$\n",
    "\n",
    "При этом если не задана одна из границ интервала, то она либо $-\\infty$ либо $+\\infty$. $F(-\\infty) = 0, F(\\infty) = 1$.\n",
    "\n",
    "В итоге:\n",
    "\n",
    "$$P(-\\infty < x < a) = \\int\\limits_{-\\infty}^af(x)dx = F(a) - F(-\\infty) = F(a),$$\n",
    "$$P(a < x < \\infty) = \\int\\limits^{\\infty}_af(x)dx = F(\\infty) - F(a) = 1 - F(a),$$\n",
    "\n"
   ]
  },
  {
   "cell_type": "code",
   "execution_count": 38,
   "id": "da18b4e0",
   "metadata": {},
   "outputs": [
    {
     "name": "stdout",
     "output_type": "stream",
     "text": [
      "Больше 182 см: 0.15865525393145707\n",
      "Больше 190 см: 0.02275013194817921\n",
      "от 166 см до 190 см: 0.8185946141203637\n",
      "от 166 см до 182 см: 0.6826894921370859\n",
      "от 158 см до 190 см: 0.9544997361036416\n",
      "не выше 150 см или не ниже 190 см: 0.0241000299798092\n",
      "не выше 150 см или не ниже 198 см: 0.002699796063260096\n",
      "ниже 166 см: 0.15865525393145707\n"
     ]
    }
   ],
   "source": [
    "## а). больше 182 см\n",
    "print(f'Больше 182 см: {1 - F(182)}')\n",
    "\n",
    "## б). больше 190 см\n",
    "print(f'Больше 190 см: {1 - F(190)}')\n",
    "\n",
    "## в). от 166 см до 190 см\n",
    "print(f'от 166 см до 190 см: {F(190) - F(166)}')\n",
    "\n",
    "## г). от 166 см до 182 см\n",
    "print(f'от 166 см до 182 см: {F(182) - F(166)}')\n",
    "\n",
    "## д). от 158 см до 190 см\n",
    "print(f'от 158 см до 190 см: {F(190) - F(158)}')\n",
    "\n",
    "## е). не выше 150 см или не ниже 190 см\n",
    "print(f'не выше 150 см или не ниже 190 см: {F(150) + 1 - F(190)}')\n",
    "\n",
    "## ё). не выше 150 см или не ниже 198 см\n",
    "print(f'не выше 150 см или не ниже 198 см: {F(150) + 1 - F(198)}')\n",
    "\n",
    "## ж). ниже 166 см.\n",
    "print(f'ниже 166 см: {F(166)}')"
   ]
  },
  {
   "cell_type": "markdown",
   "id": "a5a0a5e8",
   "metadata": {},
   "source": [
    "### 5. На сколько сигм (средних квадратичных отклонений) отклоняется рост человека, равный 190 см, от математического ожидания роста в популяции, в которой M(X) = 178 см и D(X) = 25 кв.см?"
   ]
  },
  {
   "cell_type": "markdown",
   "id": "7b723e0a",
   "metadata": {},
   "source": [
    "Среднеквадратичное отклонение равно $\\sigma = \\sqrt{D(x)} = 5 см$,\n",
    "\n",
    "$190 - 178 = 12$,\n",
    "\n",
    "$12 \\div 5 = 2.4$\n",
    "\n",
    "Ответ 2.4 сигмы)"
   ]
  }
 ],
 "metadata": {
  "kernelspec": {
   "display_name": "Python 3 (ipykernel)",
   "language": "python",
   "name": "python3"
  },
  "language_info": {
   "codemirror_mode": {
    "name": "ipython",
    "version": 3
   },
   "file_extension": ".py",
   "mimetype": "text/x-python",
   "name": "python",
   "nbconvert_exporter": "python",
   "pygments_lexer": "ipython3",
   "version": "3.9.7"
  }
 },
 "nbformat": 4,
 "nbformat_minor": 5
}
